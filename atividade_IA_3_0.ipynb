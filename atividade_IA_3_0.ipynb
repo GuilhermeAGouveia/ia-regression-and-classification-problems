{
  "nbformat": 4,
  "nbformat_minor": 0,
  "metadata": {
    "colab": {
      "name": "atividade-IA-3.0.ipynb",
      "provenance": [],
      "collapsed_sections": [
        "azpI3JGoleMg",
        "eKVuOnMqpAOM",
        "O5GtbVcAKqil",
        "ndA9RC5rrZ9P",
        "K4ASvh28qSH5",
        "YFnOPYbvQnye",
        "KO_Luri-ARKa",
        "rC4IIlxxvbar",
        "1z9zmBLwxgNN",
        "iSSBPYfvw-a7",
        "R247P-22xMzo",
        "NmSldfxzx5CA",
        "R5scf57qjiYe",
        "fBPvwBG6Hvoi"
      ],
      "include_colab_link": true
    },
    "kernelspec": {
      "name": "python3",
      "display_name": "Python 3"
    },
    "language_info": {
      "name": "python"
    }
  },
  "cells": [
    {
      "cell_type": "markdown",
      "metadata": {
        "id": "view-in-github",
        "colab_type": "text"
      },
      "source": [
        "<a href=\"https://colab.research.google.com/github/GuilhermeAGouveia/ia-regression-and-classification-problems/blob/main/atividade_IA_3_0.ipynb\" target=\"_parent\"><img src=\"https://colab.research.google.com/assets/colab-badge.svg\" alt=\"Open In Colab\"/></a>"
      ]
    },
    {
      "cell_type": "markdown",
      "source": [
        "# **Atividade 3**\n",
        "\n",
        "Equipe:\n",
        "\n",
        "\n",
        "*   Caio Eduardo Marcondes\n",
        "*   Guilherme Augusto Gouveia\n",
        "*   Gustavo Morais Costa\n",
        "\n",
        "**Introdução**\n",
        "\n",
        ">Nesse problema, tentamos comparar difentes modelos de regressão e classificação a ponto de definir qual é melhor em determinados casos\n",
        "\n",
        "**Conjunto de dados (Regressão):** https://www.kaggle.com/datasets/austinreese/craigslist-carstrucks-data/metadata\n",
        "\n",
        "**Conjunto de dados (Classificação):** https://www.kaggle.com/datasets/jimschacko/airlines-dataset-to-predict-a-delay"
      ],
      "metadata": {
        "id": "OShjkEavk6ib"
      }
    },
    {
      "cell_type": "markdown",
      "source": [
        "# Código Principal"
      ],
      "metadata": {
        "id": "azpI3JGoleMg"
      }
    },
    {
      "cell_type": "code",
      "execution_count": null,
      "metadata": {
        "id": "yQkuz03p0KqD"
      },
      "outputs": [],
      "source": [
        "from numbers import Number\n",
        "from enum import Enum\n",
        "import math\n",
        "from sklearn import preprocessing\n",
        "import xgboost\n",
        "from sklearn.tree import DecisionTreeRegressor, DecisionTreeClassifier, BaseDecisionTree\n",
        "from sklearn.neighbors import KNeighborsRegressor, KNeighborsClassifier\n",
        "from sklearn.ensemble import RandomForestRegressor, RandomForestClassifier\n",
        "from sklearn.model_selection import train_test_split\n",
        "from sklearn.metrics import accuracy_score, recall_score, precision_score, f1_score, confusion_matrix, \\\n",
        "    classification_report, mean_squared_error, r2_score\n",
        "import pandas as pd\n",
        "from matplotlib import pyplot as plt\n",
        "import numpy as np\n",
        "from xgboost import XGBRegressor, XGBClassifier\n",
        "import seaborn as sns\n",
        "\n",
        "def encodding_strings(df: pd.DataFrame):\n",
        "    le = preprocessing.LabelEncoder()\n",
        "    for column in df:\n",
        "        df[column] = le.fit_transform(df[column])\n",
        "    return df\n",
        "\n",
        "\n",
        "\"\"\"\n",
        "@describe: Essa função é utilizada para converter um dicionário para um DataFrame, afim de obter uma visualização tabular dos dados\n",
        "@param dict_: dicionário que será convertido para DataFrame\n",
        "@return: DataFrame\n",
        "\"\"\"\n",
        "def convertDictToDataframe(dict_):\n",
        "  dataframe = pd.DataFrame()\n",
        "  for i in dict_:\n",
        "    dataframe[i] = dict_[i]\n",
        "  return dataframe\n",
        "\n",
        "\"\"\"\n",
        "@describe: Enum utilizado para diferenciar os tipos de desbalanceamento, seu uso ficará mais claro adiante\n",
        "\"\"\"\n",
        "class Desbalance(Enum):\n",
        "  MORE_POSITIVE = 0\n",
        "  MORE_NEGATIVE = 1\n",
        "\n",
        "\"\"\"\n",
        "@class Problem: classe geral que define métodos em comum para problemas de Regressão e Classificação\n",
        "\"\"\"\n",
        "class Problem:\n",
        "    def __init__(self, dataset_path):\n",
        "        \"\"\"\n",
        "        @attr sets: Estrutura que irá organizar features e as saida desejadas que são para testes \n",
        "        \"\"\"\n",
        "        self.sets = {\n",
        "            \"features\": {\n",
        "                \"test\": [],\n",
        "                \"train\": [],\n",
        "            },\n",
        "            \"saidaDesejada\": {\n",
        "                \"test\": [],\n",
        "                \"train\": [],\n",
        "            }\n",
        "        }\n",
        "  \n",
        "        self.dataset_path = dataset_path #caminho do conjunto de dedados \n",
        "        self.dataset = pd.DataFrame() #inicializando atributo que irá salvar o conjunto de dados\n",
        "\n",
        "    #Este método possibilita a troca dinâmica de modelos de aprendizagem\n",
        "    def set_model(self, model):\n",
        "        self.model = model \n",
        "\n",
        "    #Este método irá tratar o dataset e definir o que é feature e o que é saida desejada, \n",
        "    #ao final o método prepare_train_and_test_sets é chamado \n",
        "    def mount_sets(self, saida_desejada_column, test_size=0.3, nivel_embaralhamento=None, tratamentFunc: lambda df: pd.DataFrame = None):\n",
        "        pass\n",
        "\n",
        "    #Este método carrega o conjunto de dados a partir do caminho dataset_path\n",
        "    def load(self, n_instances=None):\n",
        "        self.dataset = pd.read_csv(self.dataset_path, nrows=n_instances)\n",
        "\n",
        "    #Apenas dividi o que será utilizado para treino e teste e salva no atributo sets\n",
        "    def prepare_train_and_test_sets(self, features, saida_desejada, nivel_embaralhamento, test_size):\n",
        "        test_size = test_size / len(features)\n",
        "        features_train, features_test, saidaDesejada_train, saidaDesejada_test = train_test_split(features,\n",
        "                                                                                                  saida_desejada,\n",
        "                                                                                                  test_size=test_size,\n",
        "                                                                                                  random_state=nivel_embaralhamento)\n",
        "        self.sets = {\n",
        "            \"features\": {\n",
        "                \"train\": features_train,\n",
        "                \"test\": features_test\n",
        "            },\n",
        "            \"saidaDesejada\": {\n",
        "                \"train\": saidaDesejada_train,\n",
        "                \"test\": saidaDesejada_test\n",
        "            }\n",
        "        }\n",
        "\n",
        "    def desbalance_dataset(self, type_desbalance: Desbalance):\n",
        "      if type_desbalance == Desbalance.MORE_POSITIVE:\n",
        "        self.dataset = problem.dataset[:190]\n",
        "      else:\n",
        "        self.dataset = problem.dataset[150:]\n",
        "      test_set_temp = {\n",
        "          'saidaDesejada': self.sets['saidaDesejada']['test'],\n",
        "          'features': self.sets['features']['test']\n",
        "      }\n",
        "      self.mount_sets(saida_desejada_column='output', test_size=20, nivel_embaralhamento=42)\n",
        "      self.sets['saidaDesejada']['test'], self.sets['features']['test'] = test_set_temp['saidaDesejada'], test_set_temp['features']\n",
        "\n",
        "    #Este método cria uma divisão dos dados de treino, criando assim novos conjuntos de treino sem \n",
        "    #afetar o conjunto de teste\n",
        "    def subdivideTrainSet(self, nSets = 5):\n",
        "      feature_train = self.sets['features']['train'].copy()\n",
        "      saidaDesejada_train = self.sets['saidaDesejada']['train'].copy()\n",
        "      conjuntos_de_treino_subidivididos = []\n",
        "      limit = math.trunc(len(feature_train) / nSets)\n",
        "      for i in range (0, nSets):\n",
        "        feature_temp = []\n",
        "        saida_temp = []\n",
        "        for j in range(0, limit):\n",
        "          feature_temp.append(feature_train.iloc[i * limit + j])\n",
        "          saida_temp.append(saidaDesejada_train.iloc[i * limit + j])\n",
        "        conjuntos_de_treino_subidivididos.append({\n",
        "            \"features\": {\n",
        "                \"train\": pd.DataFrame(feature_temp)\n",
        "            },\n",
        "            \"saidaDesejada\": {\n",
        "                \"train\": pd.DataFrame(saida_temp)\n",
        "            }\n",
        "        })\n",
        "\n",
        "      return conjuntos_de_treino_subidivididos\n",
        "\n",
        "    #Realiza o treinamento do modelo, se trainSet não for definido utiliza o conjunto de treino \n",
        "    #padrão self.sets['features']['train']\n",
        "    def train(self, trainSet = None):\n",
        "        print(f\"\\nModelo {self.model}\")\n",
        "        if not trainSet:\n",
        "          trainSet = self.sets\n",
        "        self.model.fit(trainSet['features']['train'], trainSet['saidaDesejada']['train'])\n",
        "\n",
        "    #Realiza a predição de dados, se features não for definido utiliza o conjunto de treino \n",
        "    #padrão self.sets['features']['test']\n",
        "    def predict(self, features=None):\n",
        "        if not features:\n",
        "            features = self.sets['features']['test']\n",
        "        return self.model.predict(features)\n",
        "\n",
        "    #Método abstrato para validação, cada tipo de problema (classificação e regressão) possui sua implementação\n",
        "    def validation(self, saidaPrevista):\n",
        "        pass\n",
        "\n",
        "\n",
        "class RegressionProblem(Problem):\n",
        "\n",
        "    def validation(self, predict_values, displayGraph = True):\n",
        "        realValue = list(self.sets['saidaDesejada']['test'])\n",
        "        rmse = np.sqrt(mean_squared_error(realValue, predict_values))\n",
        "        r2 = r2_score(realValue, predict_values)\n",
        "        print('Root Mean Squared Error: ', rmse)\n",
        "        print('R2 Score: ', r2)\n",
        "\n",
        "        if displayGraph:\n",
        "          plt.plot(predict_values, color=\"blue\", label=\"Previsões\")\n",
        "          plt.plot(realValue, color=\"red\", label=\"Valores reais\")\n",
        "          plt.xlabel('Instâncias')\n",
        "          plt.ylabel('Saída Desejada')\n",
        "          plt.legend()\n",
        "          plt.show()\n",
        "\n",
        "    def mount_sets(self, saida_desejada_column, test_size=0.3, nivel_embaralhamento=None, tratamentFunc: lambda df: pd.DataFrame = None):\n",
        "        if tratamentFunc:\n",
        "          self.dataset = tratamentFunc(self.dataset)\n",
        "        features = self.dataset\n",
        "        features = features.drop(columns=[saida_desejada_column])\n",
        "        features = encodding_strings(features)\n",
        "        saida_desejada = self.dataset[saida_desejada_column]\n",
        "        self.prepare_train_and_test_sets(features, saida_desejada, nivel_embaralhamento, test_size)\n",
        "\n",
        "class ClassifierProblem(Problem):\n",
        "    def mount_sets(self, saida_desejada_column, test_size=0.3, nivel_embaralhamento=None, tratamentFunc: lambda df: pd.DataFrame = None):\n",
        "      if tratamentFunc:\n",
        "        self.dataset = tratamentFunc(self.dataset)\n",
        "      features = encodding_strings(self.dataset) #normalizando conjunto de dados\n",
        "      features = features.drop(columns=[saida_desejada_column])\n",
        "      saida_desejada = self.dataset[saida_desejada_column]\n",
        "      self.prepare_train_and_test_sets(features, saida_desejada, nivel_embaralhamento, test_size)\n",
        "\n",
        "    def validation(self, saidaPrevista):\n",
        "      # Verificando o erro em relacao ao conjunto de testes\n",
        "      saidaDesejada_test = self.sets['saidaDesejada']['test']\n",
        "      accuracy_train = accuracy_score(saidaDesejada_test, saidaPrevista)\n",
        "      recall_train = recall_score(saidaDesejada_test, saidaPrevista)\n",
        "      precision_train = precision_score(saidaDesejada_test, saidaPrevista)\n",
        "      f1_train = f1_score(saidaDesejada_test, saidaPrevista)\n",
        "      print('------------------------------')\n",
        "      print('------------------------------')\n",
        "      print('Acurácia: ', accuracy_train)\n",
        "      print('Recall: ', recall_train)\n",
        "      print('Precision: ', precision_train)\n",
        "      print('f1 Score: ', f1_train)\n",
        "      print('------------------------------')\n",
        "      print('------------------------------')\n",
        "      print('--- Matriz de Confusão ---')\n",
        "      display(pd.DataFrame(confusion_matrix(saidaDesejada_test, saidaPrevista),\n",
        "                  index=['neg', 'pos'], columns=['pred_neg', 'pred_pos']))\n",
        "\n"
      ]
    },
    {
      "cell_type": "markdown",
      "source": [
        "# Regressão"
      ],
      "metadata": {
        "id": "eKVuOnMqpAOM"
      }
    },
    {
      "cell_type": "markdown",
      "source": [
        "Definindo modelos de Regressão"
      ],
      "metadata": {
        "id": "o-cblwsUf9Cx"
      }
    },
    {
      "cell_type": "code",
      "source": [
        "dtr_model = DecisionTreeRegressor(min_samples_leaf=9)\n",
        "knn_model = KNeighborsRegressor(n_neighbors=10)\n",
        "randomf_model = RandomForestRegressor(n_estimators=20)\n",
        "xgboost_model = XGBRegressor(n_estimators=1000)"
      ],
      "metadata": {
        "id": "C7Hcl9Ddf5sg"
      },
      "execution_count": null,
      "outputs": []
    },
    {
      "cell_type": "markdown",
      "source": [
        "Carregando problema de regressão"
      ],
      "metadata": {
        "id": "b5f9pm8mS5Ax"
      }
    },
    {
      "cell_type": "code",
      "source": [
        "problem = RegressionProblem(dataset_path=\"/content/drive/MyDrive/Dataset/vehicles_reverse.csv\")\n",
        "problem.load(n_instances=50_000)"
      ],
      "metadata": {
        "id": "urkEaVStS78o"
      },
      "execution_count": null,
      "outputs": []
    },
    {
      "cell_type": "markdown",
      "source": [
        "Cada problema tem um forma especifica de organizar seu conjunto de dados para que fique aplicável a modelos supervisionados, a função abaixo representa esse tratamento específico que cada problema de veículos deve ter"
      ],
      "metadata": {
        "id": "B_SZwpdhChjY"
      }
    },
    {
      "cell_type": "code",
      "source": [
        "def tratamentForVehiculosDataFrame(dataframe: pd.DataFrame):\n",
        "    dataframe = dataframe.drop(\n",
        "            columns=['id', 'url','Unnamed: 0', 'region_url', 'posting_date', 'description', 'image_url', 'VIN', 'size', 'county']\n",
        "            )\n",
        "    return dataframe"
      ],
      "metadata": {
        "id": "BMCz40G4CdfR"
      },
      "execution_count": null,
      "outputs": []
    },
    {
      "cell_type": "markdown",
      "source": [
        "Criando conjuntos de dados para treino e teste\n",
        "\n"
      ],
      "metadata": {
        "id": "woKl4j2AgD3D"
      }
    },
    {
      "cell_type": "code",
      "source": [
        "problem.mount_sets(\n",
        "    saida_desejada_column=\"price\", \n",
        "    nivel_embaralhamento=42,\n",
        "    tratamentFunc=tratamentForVehiculosDataFrame,\n",
        "    test_size=100\n",
        "    )"
      ],
      "metadata": {
        "id": "wJLk7p7Te3Fh"
      },
      "execution_count": null,
      "outputs": []
    },
    {
      "cell_type": "markdown",
      "source": [
        "Apresentando conjunto de dados:"
      ],
      "metadata": {
        "id": "yzj_qFrLqQIp"
      }
    },
    {
      "cell_type": "code",
      "source": [
        "problem.dataset.head(5)"
      ],
      "metadata": {
        "colab": {
          "base_uri": "https://localhost:8080/",
          "height": 392
        },
        "id": "4rh0edRSqTCR",
        "outputId": "2b7c5947-f503-4e2a-8333-a838251cc01a"
      },
      "execution_count": null,
      "outputs": [
        {
          "output_type": "execute_result",
          "data": {
            "text/plain": [
              "    region  price    year manufacturer                     model condition  \\\n",
              "0  wyoming  30590  2019.0          bmw  4 series 430i gran coupe      good   \n",
              "1  wyoming  28990  2018.0        lexus           es 350 sedan 4d      good   \n",
              "2  wyoming  34990  2020.0     cadillac          xt4 sport suv 4d      good   \n",
              "3  wyoming  30590  2020.0        volvo  s60 t5 momentum sedan 4d      good   \n",
              "4  wyoming  23590  2019.0       nissan         maxima s sedan 4d      good   \n",
              "\n",
              "     cylinders    fuel  odometer title_status transmission drive       type  \\\n",
              "0          NaN     gas   22716.0        clean        other   rwd      coupe   \n",
              "1  6 cylinders     gas   30112.0        clean        other   fwd      sedan   \n",
              "2          NaN  diesel    4174.0        clean        other   NaN  hatchback   \n",
              "3          NaN     gas   12029.0        clean        other   fwd      sedan   \n",
              "4  6 cylinders     gas   32226.0        clean        other   fwd      sedan   \n",
              "\n",
              "  paint_color state        lat       long  \n",
              "0         NaN    wy  33.779214 -84.411811  \n",
              "1      silver    wy  33.786500 -84.445400  \n",
              "2       white    wy  33.779214 -84.411811  \n",
              "3         red    wy  33.786500 -84.445400  \n",
              "4         NaN    wy  33.786500 -84.445400  "
            ],
            "text/html": [
              "\n",
              "  <div id=\"df-4a6a1b37-14c2-4fbc-8bf7-41a666b466e9\">\n",
              "    <div class=\"colab-df-container\">\n",
              "      <div>\n",
              "<style scoped>\n",
              "    .dataframe tbody tr th:only-of-type {\n",
              "        vertical-align: middle;\n",
              "    }\n",
              "\n",
              "    .dataframe tbody tr th {\n",
              "        vertical-align: top;\n",
              "    }\n",
              "\n",
              "    .dataframe thead th {\n",
              "        text-align: right;\n",
              "    }\n",
              "</style>\n",
              "<table border=\"1\" class=\"dataframe\">\n",
              "  <thead>\n",
              "    <tr style=\"text-align: right;\">\n",
              "      <th></th>\n",
              "      <th>region</th>\n",
              "      <th>price</th>\n",
              "      <th>year</th>\n",
              "      <th>manufacturer</th>\n",
              "      <th>model</th>\n",
              "      <th>condition</th>\n",
              "      <th>cylinders</th>\n",
              "      <th>fuel</th>\n",
              "      <th>odometer</th>\n",
              "      <th>title_status</th>\n",
              "      <th>transmission</th>\n",
              "      <th>drive</th>\n",
              "      <th>type</th>\n",
              "      <th>paint_color</th>\n",
              "      <th>state</th>\n",
              "      <th>lat</th>\n",
              "      <th>long</th>\n",
              "    </tr>\n",
              "  </thead>\n",
              "  <tbody>\n",
              "    <tr>\n",
              "      <th>0</th>\n",
              "      <td>wyoming</td>\n",
              "      <td>30590</td>\n",
              "      <td>2019.0</td>\n",
              "      <td>bmw</td>\n",
              "      <td>4 series 430i gran coupe</td>\n",
              "      <td>good</td>\n",
              "      <td>NaN</td>\n",
              "      <td>gas</td>\n",
              "      <td>22716.0</td>\n",
              "      <td>clean</td>\n",
              "      <td>other</td>\n",
              "      <td>rwd</td>\n",
              "      <td>coupe</td>\n",
              "      <td>NaN</td>\n",
              "      <td>wy</td>\n",
              "      <td>33.779214</td>\n",
              "      <td>-84.411811</td>\n",
              "    </tr>\n",
              "    <tr>\n",
              "      <th>1</th>\n",
              "      <td>wyoming</td>\n",
              "      <td>28990</td>\n",
              "      <td>2018.0</td>\n",
              "      <td>lexus</td>\n",
              "      <td>es 350 sedan 4d</td>\n",
              "      <td>good</td>\n",
              "      <td>6 cylinders</td>\n",
              "      <td>gas</td>\n",
              "      <td>30112.0</td>\n",
              "      <td>clean</td>\n",
              "      <td>other</td>\n",
              "      <td>fwd</td>\n",
              "      <td>sedan</td>\n",
              "      <td>silver</td>\n",
              "      <td>wy</td>\n",
              "      <td>33.786500</td>\n",
              "      <td>-84.445400</td>\n",
              "    </tr>\n",
              "    <tr>\n",
              "      <th>2</th>\n",
              "      <td>wyoming</td>\n",
              "      <td>34990</td>\n",
              "      <td>2020.0</td>\n",
              "      <td>cadillac</td>\n",
              "      <td>xt4 sport suv 4d</td>\n",
              "      <td>good</td>\n",
              "      <td>NaN</td>\n",
              "      <td>diesel</td>\n",
              "      <td>4174.0</td>\n",
              "      <td>clean</td>\n",
              "      <td>other</td>\n",
              "      <td>NaN</td>\n",
              "      <td>hatchback</td>\n",
              "      <td>white</td>\n",
              "      <td>wy</td>\n",
              "      <td>33.779214</td>\n",
              "      <td>-84.411811</td>\n",
              "    </tr>\n",
              "    <tr>\n",
              "      <th>3</th>\n",
              "      <td>wyoming</td>\n",
              "      <td>30590</td>\n",
              "      <td>2020.0</td>\n",
              "      <td>volvo</td>\n",
              "      <td>s60 t5 momentum sedan 4d</td>\n",
              "      <td>good</td>\n",
              "      <td>NaN</td>\n",
              "      <td>gas</td>\n",
              "      <td>12029.0</td>\n",
              "      <td>clean</td>\n",
              "      <td>other</td>\n",
              "      <td>fwd</td>\n",
              "      <td>sedan</td>\n",
              "      <td>red</td>\n",
              "      <td>wy</td>\n",
              "      <td>33.786500</td>\n",
              "      <td>-84.445400</td>\n",
              "    </tr>\n",
              "    <tr>\n",
              "      <th>4</th>\n",
              "      <td>wyoming</td>\n",
              "      <td>23590</td>\n",
              "      <td>2019.0</td>\n",
              "      <td>nissan</td>\n",
              "      <td>maxima s sedan 4d</td>\n",
              "      <td>good</td>\n",
              "      <td>6 cylinders</td>\n",
              "      <td>gas</td>\n",
              "      <td>32226.0</td>\n",
              "      <td>clean</td>\n",
              "      <td>other</td>\n",
              "      <td>fwd</td>\n",
              "      <td>sedan</td>\n",
              "      <td>NaN</td>\n",
              "      <td>wy</td>\n",
              "      <td>33.786500</td>\n",
              "      <td>-84.445400</td>\n",
              "    </tr>\n",
              "  </tbody>\n",
              "</table>\n",
              "</div>\n",
              "      <button class=\"colab-df-convert\" onclick=\"convertToInteractive('df-4a6a1b37-14c2-4fbc-8bf7-41a666b466e9')\"\n",
              "              title=\"Convert this dataframe to an interactive table.\"\n",
              "              style=\"display:none;\">\n",
              "        \n",
              "  <svg xmlns=\"http://www.w3.org/2000/svg\" height=\"24px\"viewBox=\"0 0 24 24\"\n",
              "       width=\"24px\">\n",
              "    <path d=\"M0 0h24v24H0V0z\" fill=\"none\"/>\n",
              "    <path d=\"M18.56 5.44l.94 2.06.94-2.06 2.06-.94-2.06-.94-.94-2.06-.94 2.06-2.06.94zm-11 1L8.5 8.5l.94-2.06 2.06-.94-2.06-.94L8.5 2.5l-.94 2.06-2.06.94zm10 10l.94 2.06.94-2.06 2.06-.94-2.06-.94-.94-2.06-.94 2.06-2.06.94z\"/><path d=\"M17.41 7.96l-1.37-1.37c-.4-.4-.92-.59-1.43-.59-.52 0-1.04.2-1.43.59L10.3 9.45l-7.72 7.72c-.78.78-.78 2.05 0 2.83L4 21.41c.39.39.9.59 1.41.59.51 0 1.02-.2 1.41-.59l7.78-7.78 2.81-2.81c.8-.78.8-2.07 0-2.86zM5.41 20L4 18.59l7.72-7.72 1.47 1.35L5.41 20z\"/>\n",
              "  </svg>\n",
              "      </button>\n",
              "      \n",
              "  <style>\n",
              "    .colab-df-container {\n",
              "      display:flex;\n",
              "      flex-wrap:wrap;\n",
              "      gap: 12px;\n",
              "    }\n",
              "\n",
              "    .colab-df-convert {\n",
              "      background-color: #E8F0FE;\n",
              "      border: none;\n",
              "      border-radius: 50%;\n",
              "      cursor: pointer;\n",
              "      display: none;\n",
              "      fill: #1967D2;\n",
              "      height: 32px;\n",
              "      padding: 0 0 0 0;\n",
              "      width: 32px;\n",
              "    }\n",
              "\n",
              "    .colab-df-convert:hover {\n",
              "      background-color: #E2EBFA;\n",
              "      box-shadow: 0px 1px 2px rgba(60, 64, 67, 0.3), 0px 1px 3px 1px rgba(60, 64, 67, 0.15);\n",
              "      fill: #174EA6;\n",
              "    }\n",
              "\n",
              "    [theme=dark] .colab-df-convert {\n",
              "      background-color: #3B4455;\n",
              "      fill: #D2E3FC;\n",
              "    }\n",
              "\n",
              "    [theme=dark] .colab-df-convert:hover {\n",
              "      background-color: #434B5C;\n",
              "      box-shadow: 0px 1px 3px 1px rgba(0, 0, 0, 0.15);\n",
              "      filter: drop-shadow(0px 1px 2px rgba(0, 0, 0, 0.3));\n",
              "      fill: #FFFFFF;\n",
              "    }\n",
              "  </style>\n",
              "\n",
              "      <script>\n",
              "        const buttonEl =\n",
              "          document.querySelector('#df-4a6a1b37-14c2-4fbc-8bf7-41a666b466e9 button.colab-df-convert');\n",
              "        buttonEl.style.display =\n",
              "          google.colab.kernel.accessAllowed ? 'block' : 'none';\n",
              "\n",
              "        async function convertToInteractive(key) {\n",
              "          const element = document.querySelector('#df-4a6a1b37-14c2-4fbc-8bf7-41a666b466e9');\n",
              "          const dataTable =\n",
              "            await google.colab.kernel.invokeFunction('convertToInteractive',\n",
              "                                                     [key], {});\n",
              "          if (!dataTable) return;\n",
              "\n",
              "          const docLinkHtml = 'Like what you see? Visit the ' +\n",
              "            '<a target=\"_blank\" href=https://colab.research.google.com/notebooks/data_table.ipynb>data table notebook</a>'\n",
              "            + ' to learn more about interactive tables.';\n",
              "          element.innerHTML = '';\n",
              "          dataTable['output_type'] = 'display_data';\n",
              "          await google.colab.output.renderOutput(dataTable, element);\n",
              "          const docLink = document.createElement('div');\n",
              "          docLink.innerHTML = docLinkHtml;\n",
              "          element.appendChild(docLink);\n",
              "        }\n",
              "      </script>\n",
              "    </div>\n",
              "  </div>\n",
              "  "
            ]
          },
          "metadata": {},
          "execution_count": 10
        }
      ]
    },
    {
      "cell_type": "markdown",
      "source": [
        "## Verificar quais são as vantagens e desvantagens da utilização de diferentes modelos;\n"
      ],
      "metadata": {
        "id": "O5GtbVcAKqil"
      }
    },
    {
      "cell_type": "markdown",
      "source": [
        "\n",
        "\n",
        "Definindo modelo a ser utilizado"
      ],
      "metadata": {
        "id": "esDzdAx8S-3G"
      }
    },
    {
      "cell_type": "code",
      "source": [
        "problem.set_model(randomf_model)"
      ],
      "metadata": {
        "id": "2yA0vW0seI2D"
      },
      "execution_count": null,
      "outputs": []
    },
    {
      "cell_type": "markdown",
      "source": [
        "\n",
        "\n",
        "Aplicando modelo"
      ],
      "metadata": {
        "id": "i5yj0yAWWOX3"
      }
    },
    {
      "cell_type": "code",
      "source": [
        "problem.train()\n",
        "predict_values = problem.predict()\n",
        "problem.validation(predict_values)"
      ],
      "metadata": {
        "colab": {
          "base_uri": "https://localhost:8080/",
          "height": 348
        },
        "id": "vWWbel76TBkx",
        "outputId": "b7b04855-1233-4f2c-e75b-49ecf407eb72"
      },
      "execution_count": null,
      "outputs": [
        {
          "output_type": "stream",
          "name": "stdout",
          "text": [
            "\n",
            "Modelo RandomForestRegressor(n_estimators=20)\n",
            "Root Mean Squared Error:  5367.187446113371\n",
            "R2 Score:  0.9069770508287709\n"
          ]
        },
        {
          "output_type": "display_data",
          "data": {
            "text/plain": [
              "<Figure size 432x288 with 1 Axes>"
            ],
            "image/png": "[encoded data removed]"
          },
          "metadata": {
            "needs_background": "light"
          }
        }
      ]
    },
    {
      "cell_type": "markdown",
      "source": [
        "### **Comparação entre modelos de regressão:**\n",
        "\n",
        ">Conjunto de dados com 50_000 instâncias </br>\n",
        ">Um numero de fixo de 100 instâncias é escolhido para testes\n",
        "\n",
        "*   Random Forest\n",
        "    * Root Mean Squared Error:  5186.44113346253\n",
        "    * R2 Score:  0.9131368681103542\n",
        "\n",
        "\n",
        "*   Decision Tree\n",
        "    * Root Mean Squared Error:  7061.814009513637\n",
        "    * R2 Score:  0.8389617181500788\n",
        "\n",
        "*   KNN\n",
        "    * Root Mean Squared Error:  14366.207297978824\n",
        "    * R2 Score:  0.3335296462783567\n",
        "\n",
        "*   XGBoost\n",
        "    * Root Mean Squared Error:  6884.272270115412\n",
        "    * R2 Score:  0.8469572875301563\n",
        "\n"
      ],
      "metadata": {
        "id": "cJ8jlRkPmfdr"
      }
    },
    {
      "cell_type": "markdown",
      "source": [
        "## Verificar o impacto de diferentes conjuntos de treinamento sobre o desempenho do modelo (o conjunto de teste deve ser fixo)"
      ],
      "metadata": {
        "id": "ndA9RC5rrZ9P"
      }
    },
    {
      "cell_type": "markdown",
      "source": [
        "Subdivindo o conjunto de treino original em conjuntos de treinos menores"
      ],
      "metadata": {
        "id": "CC3FF9qXD6oj"
      }
    },
    {
      "cell_type": "code",
      "source": [
        "\"\"\"\n",
        "@var nSets: numero de conjuntos de treinos que quero criar\n",
        "@var conjuntos_train: Essa variavel é um vetor com nSets posições e armazena conjuntos de treinos subdividos a partir de conjunto de treino principal\n",
        "\"\"\"\n",
        "nSets = 4\n",
        "conjuntos_train = problem.subdivideTrainSet(nSets=nSets) \n",
        "conjuntos_train[0]\n"
      ],
      "metadata": {
        "colab": {
          "base_uri": "https://localhost:8080/"
        },
        "id": "95nMnm7JBJlS",
        "outputId": "6f20f7fe-8a1a-4047-da79-f02792281af4"
      },
      "execution_count": null,
      "outputs": [
        {
          "output_type": "execute_result",
          "data": {
            "text/plain": [
              "{'features': {'train':        region  year  manufacturer  model  condition  cylinders  fuel  \\\n",
              "  10430       8    93            30   1620          2          3     2   \n",
              "  25768       1    96            33    140          6          6     2   \n",
              "  29103      35    85            16   5283          0          5     2   \n",
              "  36537       9    81            20   4743          2          8     2   \n",
              "  39328      51    87            13   3522          2          6     2   \n",
              "  ...       ...   ...           ...    ...        ...        ...   ...   \n",
              "  4800       24    75            10   2692          0          5     2   \n",
              "  35868       9    88            16   2228          0          3     2   \n",
              "  7422       16    94            21   5336          6          8     2   \n",
              "  21413      26    91            23   4287          6          8     2   \n",
              "  4396       24    81             7   7186          3          5     2   \n",
              "  \n",
              "         odometer  title_status  transmission  drive  type  paint_color  state  \\\n",
              "  10430     13868             0             0      1     9            0      5   \n",
              "  25768      2661             0             0      0    13           12      4   \n",
              "  29103     21181             0             0      1     5            9      2   \n",
              "  36537     18068             0             0      3    13           12      2   \n",
              "  39328     18567             0             0      0    10            5      3   \n",
              "  ...         ...           ...           ...    ...   ...          ...    ...   \n",
              "  4800      10614             0             0      0     8            4      5   \n",
              "  35868     16788             0             1      1     9            8      2   \n",
              "  7422       8490             0             0      3    13           12      5   \n",
              "  21413     14093             0             0      2     9            9      4   \n",
              "  4396      19370             0             0      0     0           12      5   \n",
              "  \n",
              "          lat  long  \n",
              "  10430  5220  3221  \n",
              "  25768  6646   331  \n",
              "  29103  2497  5778  \n",
              "  36537  2656  5855  \n",
              "  39328  3268  6591  \n",
              "  ...     ...   ...  \n",
              "  4800   4017  4221  \n",
              "  35868  2564  5848  \n",
              "  7422   5136  3044  \n",
              "  21413  6228  1243  \n",
              "  4396   3913  4553  \n",
              "  \n",
              "  [12475 rows x 16 columns]}, 'saidaDesejada': {'train':            0\n",
              "  0       8495\n",
              "  1      41612\n",
              "  2       2800\n",
              "  3       3700\n",
              "  4       7995\n",
              "  ...      ...\n",
              "  12470   9995\n",
              "  12471   5100\n",
              "  12472  14950\n",
              "  12473  21999\n",
              "  12474   2999\n",
              "  \n",
              "  [12475 rows x 1 columns]}}"
            ]
          },
          "metadata": {},
          "execution_count": 13
        }
      ]
    },
    {
      "cell_type": "markdown",
      "source": [
        "Treinando modelo utilizando cada conjunto de treino:\n",
        "\n",
        "conjunto_train[ 0 ], conjunto_train[ 1 ], ..., conjunto_train[ nSets - 1 ]"
      ],
      "metadata": {
        "id": "isyV5Z11EG-_"
      }
    },
    {
      "cell_type": "code",
      "source": [
        "problem.set_model(dtr_model)\n",
        "\n",
        "for i in range(0, nSets):\n",
        "  problem.train(conjuntos_train[i])\n",
        "\n",
        "  predict_values = problem.predict()\n",
        "  problem.validation(predict_values, displayGraph=False)\n"
      ],
      "metadata": {
        "colab": {
          "base_uri": "https://localhost:8080/"
        },
        "id": "psEt7KKyEBw2",
        "outputId": "223e1222-be66-4a31-97b4-770326b7e195"
      },
      "execution_count": null,
      "outputs": [
        {
          "output_type": "stream",
          "name": "stdout",
          "text": [
            "\n",
            "Modelo DecisionTreeRegressor(min_samples_leaf=9)\n",
            "Root Mean Squared Error:  9347.497339849338\n",
            "R2 Score:  0.7178453067842464\n",
            "\n",
            "Modelo DecisionTreeRegressor(min_samples_leaf=9)\n",
            "Root Mean Squared Error:  11374.456736539534\n",
            "R2 Score:  0.5822101311558896\n",
            "\n",
            "Modelo DecisionTreeRegressor(min_samples_leaf=9)\n",
            "Root Mean Squared Error:  10943.411819219893\n",
            "R2 Score:  0.6132751643427253\n",
            "\n",
            "Modelo DecisionTreeRegressor(min_samples_leaf=9)\n",
            "Root Mean Squared Error:  12012.982609230594\n",
            "R2 Score:  0.533986739551096\n"
          ]
        }
      ]
    },
    {
      "cell_type": "markdown",
      "source": [
        "# Classificação"
      ],
      "metadata": {
        "id": "K4ASvh28qSH5"
      }
    },
    {
      "cell_type": "markdown",
      "source": [
        "Importando a base de dados"
      ],
      "metadata": {
        "id": "MHrZuK-ZqWk2"
      }
    },
    {
      "cell_type": "code",
      "source": [
        "from google.colab import drive\n",
        "drive.mount('/content/drive')"
      ],
      "metadata": {
        "colab": {
          "base_uri": "https://localhost:8080/"
        },
        "id": "ZQjqq7hIqXTc",
        "outputId": "8014bf8d-1933-4cda-9f68-b37f722f650a"
      },
      "execution_count": null,
      "outputs": [
        {
          "output_type": "stream",
          "name": "stdout",
          "text": [
            "Drive already mounted at /content/drive; to attempt to forcibly remount, call drive.mount(\"/content/drive\", force_remount=True).\n"
          ]
        }
      ]
    },
    {
      "cell_type": "markdown",
      "source": [
        "Carregando conjunto de dados"
      ],
      "metadata": {
        "id": "_3C4tx09KyeE"
      }
    },
    {
      "cell_type": "code",
      "source": [
        "#problem = ClassifierProblem(dataset_path=\"/content/drive/MyDrive/Colab Notebooks/ia/archive (1)/heart.csv\")\n",
        "problem = ClassifierProblem(dataset_path=\"/content/drive/MyDrive/Dataset/heart.csv\")\n",
        "problem.load(n_instances=100000)\n",
        "\n",
        "len(problem.dataset)"
      ],
      "metadata": {
        "id": "qE3RdJqzsDmB",
        "colab": {
          "base_uri": "https://localhost:8080/"
        },
        "outputId": "462c3596-b05b-42d4-cacd-90119d4b0fbd"
      },
      "execution_count": null,
      "outputs": [
        {
          "output_type": "execute_result",
          "data": {
            "text/plain": [
              "303"
            ]
          },
          "metadata": {},
          "execution_count": 16
        }
      ]
    },
    {
      "cell_type": "markdown",
      "source": [
        "Visualizando o conjunto de dados"
      ],
      "metadata": {
        "id": "0UdShXEGG8S3"
      }
    },
    {
      "cell_type": "code",
      "source": [
        "problem.dataset.head(5)"
      ],
      "metadata": {
        "id": "c9psLJtOsTgz",
        "colab": {
          "base_uri": "https://localhost:8080/",
          "height": 206
        },
        "outputId": "6d681a7b-564e-41da-f4af-4e00836266d1"
      },
      "execution_count": null,
      "outputs": [
        {
          "output_type": "execute_result",
          "data": {
            "text/plain": [
              "   age  sex  cp  trtbps  chol  fbs  restecg  thalachh  exng  oldpeak  slp  \\\n",
              "0   63    1   3     145   233    1        0       150     0      2.3    0   \n",
              "1   37    1   2     130   250    0        1       187     0      3.5    0   \n",
              "2   41    0   1     130   204    0        0       172     0      1.4    2   \n",
              "3   56    1   1     120   236    0        1       178     0      0.8    2   \n",
              "4   57    0   0     120   354    0        1       163     1      0.6    2   \n",
              "\n",
              "   caa  thall  output  \n",
              "0    0      1       1  \n",
              "1    0      2       1  \n",
              "2    0      2       1  \n",
              "3    0      2       1  \n",
              "4    0      2       1  "
            ],
            "text/html": [
              "\n",
              "  <div id=\"df-5fef3463-a84c-4917-8da2-f1f04728a29d\">\n",
              "    <div class=\"colab-df-container\">\n",
              "      <div>\n",
              "<style scoped>\n",
              "    .dataframe tbody tr th:only-of-type {\n",
              "        vertical-align: middle;\n",
              "    }\n",
              "\n",
              "    .dataframe tbody tr th {\n",
              "        vertical-align: top;\n",
              "    }\n",
              "\n",
              "    .dataframe thead th {\n",
              "        text-align: right;\n",
              "    }\n",
              "</style>\n",
              "<table border=\"1\" class=\"dataframe\">\n",
              "  <thead>\n",
              "    <tr style=\"text-align: right;\">\n",
              "      <th></th>\n",
              "      <th>age</th>\n",
              "      <th>sex</th>\n",
              "      <th>cp</th>\n",
              "      <th>trtbps</th>\n",
              "      <th>chol</th>\n",
              "      <th>fbs</th>\n",
              "      <th>restecg</th>\n",
              "      <th>thalachh</th>\n",
              "      <th>exng</th>\n",
              "      <th>oldpeak</th>\n",
              "      <th>slp</th>\n",
              "      <th>caa</th>\n",
              "      <th>thall</th>\n",
              "      <th>output</th>\n",
              "    </tr>\n",
              "  </thead>\n",
              "  <tbody>\n",
              "    <tr>\n",
              "      <th>0</th>\n",
              "      <td>63</td>\n",
              "      <td>1</td>\n",
              "      <td>3</td>\n",
              "      <td>145</td>\n",
              "      <td>233</td>\n",
              "      <td>1</td>\n",
              "      <td>0</td>\n",
              "      <td>150</td>\n",
              "      <td>0</td>\n",
              "      <td>2.3</td>\n",
              "      <td>0</td>\n",
              "      <td>0</td>\n",
              "      <td>1</td>\n",
              "      <td>1</td>\n",
              "    </tr>\n",
              "    <tr>\n",
              "      <th>1</th>\n",
              "      <td>37</td>\n",
              "      <td>1</td>\n",
              "      <td>2</td>\n",
              "      <td>130</td>\n",
              "      <td>250</td>\n",
              "      <td>0</td>\n",
              "      <td>1</td>\n",
              "      <td>187</td>\n",
              "      <td>0</td>\n",
              "      <td>3.5</td>\n",
              "      <td>0</td>\n",
              "      <td>0</td>\n",
              "      <td>2</td>\n",
              "      <td>1</td>\n",
              "    </tr>\n",
              "    <tr>\n",
              "      <th>2</th>\n",
              "      <td>41</td>\n",
              "      <td>0</td>\n",
              "      <td>1</td>\n",
              "      <td>130</td>\n",
              "      <td>204</td>\n",
              "      <td>0</td>\n",
              "      <td>0</td>\n",
              "      <td>172</td>\n",
              "      <td>0</td>\n",
              "      <td>1.4</td>\n",
              "      <td>2</td>\n",
              "      <td>0</td>\n",
              "      <td>2</td>\n",
              "      <td>1</td>\n",
              "    </tr>\n",
              "    <tr>\n",
              "      <th>3</th>\n",
              "      <td>56</td>\n",
              "      <td>1</td>\n",
              "      <td>1</td>\n",
              "      <td>120</td>\n",
              "      <td>236</td>\n",
              "      <td>0</td>\n",
              "      <td>1</td>\n",
              "      <td>178</td>\n",
              "      <td>0</td>\n",
              "      <td>0.8</td>\n",
              "      <td>2</td>\n",
              "      <td>0</td>\n",
              "      <td>2</td>\n",
              "      <td>1</td>\n",
              "    </tr>\n",
              "    <tr>\n",
              "      <th>4</th>\n",
              "      <td>57</td>\n",
              "      <td>0</td>\n",
              "      <td>0</td>\n",
              "      <td>120</td>\n",
              "      <td>354</td>\n",
              "      <td>0</td>\n",
              "      <td>1</td>\n",
              "      <td>163</td>\n",
              "      <td>1</td>\n",
              "      <td>0.6</td>\n",
              "      <td>2</td>\n",
              "      <td>0</td>\n",
              "      <td>2</td>\n",
              "      <td>1</td>\n",
              "    </tr>\n",
              "  </tbody>\n",
              "</table>\n",
              "</div>\n",
              "      <button class=\"colab-df-convert\" onclick=\"convertToInteractive('df-5fef3463-a84c-4917-8da2-f1f04728a29d')\"\n",
              "              title=\"Convert this dataframe to an interactive table.\"\n",
              "              style=\"display:none;\">\n",
              "        \n",
              "  <svg xmlns=\"http://www.w3.org/2000/svg\" height=\"24px\"viewBox=\"0 0 24 24\"\n",
              "       width=\"24px\">\n",
              "    <path d=\"M0 0h24v24H0V0z\" fill=\"none\"/>\n",
              "    <path d=\"M18.56 5.44l.94 2.06.94-2.06 2.06-.94-2.06-.94-.94-2.06-.94 2.06-2.06.94zm-11 1L8.5 8.5l.94-2.06 2.06-.94-2.06-.94L8.5 2.5l-.94 2.06-2.06.94zm10 10l.94 2.06.94-2.06 2.06-.94-2.06-.94-.94-2.06-.94 2.06-2.06.94z\"/><path d=\"M17.41 7.96l-1.37-1.37c-.4-.4-.92-.59-1.43-.59-.52 0-1.04.2-1.43.59L10.3 9.45l-7.72 7.72c-.78.78-.78 2.05 0 2.83L4 21.41c.39.39.9.59 1.41.59.51 0 1.02-.2 1.41-.59l7.78-7.78 2.81-2.81c.8-.78.8-2.07 0-2.86zM5.41 20L4 18.59l7.72-7.72 1.47 1.35L5.41 20z\"/>\n",
              "  </svg>\n",
              "      </button>\n",
              "      \n",
              "  <style>\n",
              "    .colab-df-container {\n",
              "      display:flex;\n",
              "      flex-wrap:wrap;\n",
              "      gap: 12px;\n",
              "    }\n",
              "\n",
              "    .colab-df-convert {\n",
              "      background-color: #E8F0FE;\n",
              "      border: none;\n",
              "      border-radius: 50%;\n",
              "      cursor: pointer;\n",
              "      display: none;\n",
              "      fill: #1967D2;\n",
              "      height: 32px;\n",
              "      padding: 0 0 0 0;\n",
              "      width: 32px;\n",
              "    }\n",
              "\n",
              "    .colab-df-convert:hover {\n",
              "      background-color: #E2EBFA;\n",
              "      box-shadow: 0px 1px 2px rgba(60, 64, 67, 0.3), 0px 1px 3px 1px rgba(60, 64, 67, 0.15);\n",
              "      fill: #174EA6;\n",
              "    }\n",
              "\n",
              "    [theme=dark] .colab-df-convert {\n",
              "      background-color: #3B4455;\n",
              "      fill: #D2E3FC;\n",
              "    }\n",
              "\n",
              "    [theme=dark] .colab-df-convert:hover {\n",
              "      background-color: #434B5C;\n",
              "      box-shadow: 0px 1px 3px 1px rgba(0, 0, 0, 0.15);\n",
              "      filter: drop-shadow(0px 1px 2px rgba(0, 0, 0, 0.3));\n",
              "      fill: #FFFFFF;\n",
              "    }\n",
              "  </style>\n",
              "\n",
              "      <script>\n",
              "        const buttonEl =\n",
              "          document.querySelector('#df-5fef3463-a84c-4917-8da2-f1f04728a29d button.colab-df-convert');\n",
              "        buttonEl.style.display =\n",
              "          google.colab.kernel.accessAllowed ? 'block' : 'none';\n",
              "\n",
              "        async function convertToInteractive(key) {\n",
              "          const element = document.querySelector('#df-5fef3463-a84c-4917-8da2-f1f04728a29d');\n",
              "          const dataTable =\n",
              "            await google.colab.kernel.invokeFunction('convertToInteractive',\n",
              "                                                     [key], {});\n",
              "          if (!dataTable) return;\n",
              "\n",
              "          const docLinkHtml = 'Like what you see? Visit the ' +\n",
              "            '<a target=\"_blank\" href=https://colab.research.google.com/notebooks/data_table.ipynb>data table notebook</a>'\n",
              "            + ' to learn more about interactive tables.';\n",
              "          element.innerHTML = '';\n",
              "          dataTable['output_type'] = 'display_data';\n",
              "          await google.colab.output.renderOutput(dataTable, element);\n",
              "          const docLink = document.createElement('div');\n",
              "          docLink.innerHTML = docLinkHtml;\n",
              "          element.appendChild(docLink);\n",
              "        }\n",
              "      </script>\n",
              "    </div>\n",
              "  </div>\n",
              "  "
            ]
          },
          "metadata": {},
          "execution_count": 17
        }
      ]
    },
    {
      "cell_type": "markdown",
      "source": [
        "Tratando conjunto de dados e definindo conjuntos de treino e teste"
      ],
      "metadata": {
        "id": "IV2VuAAja4Ev"
      }
    },
    {
      "cell_type": "code",
      "source": [
        "problem.mount_sets(saida_desejada_column='output', test_size=30, nivel_embaralhamento=42)\n",
        "len(problem.sets['features']['train'])"
      ],
      "metadata": {
        "id": "3hWhKig1RFtz",
        "colab": {
          "base_uri": "https://localhost:8080/"
        },
        "outputId": "e2dcfa5a-fb72-4f9b-ba59-1b03b69cb002"
      },
      "execution_count": null,
      "outputs": [
        {
          "output_type": "execute_result",
          "data": {
            "text/plain": [
              "273"
            ]
          },
          "metadata": {},
          "execution_count": 18
        }
      ]
    },
    {
      "cell_type": "markdown",
      "source": [
        "Definindo modelos de classificação"
      ],
      "metadata": {
        "id": "tFhStsJ7a-7-"
      }
    },
    {
      "cell_type": "code",
      "source": [
        "knnModel = KNeighborsClassifier(n_neighbors=9, metric='euclidean')\n",
        "dstModel = DecisionTreeClassifier(min_samples_leaf=8)\n",
        "randomf_model = RandomForestClassifier(n_estimators=9)\n",
        "XGBModel = XGBClassifier(n_estimators=2)"
      ],
      "metadata": {
        "id": "zgMADWv3Q1sk"
      },
      "execution_count": null,
      "outputs": []
    },
    {
      "cell_type": "markdown",
      "source": [
        "## Verificar quais são as vantagens e desvantagens da utilização de diferentes modelos;\n"
      ],
      "metadata": {
        "id": "YFnOPYbvQnye"
      }
    },
    {
      "cell_type": "markdown",
      "source": [
        "Definindo modelo a ser usado no momento"
      ],
      "metadata": {
        "id": "nG7NOCKQbCi-"
      }
    },
    {
      "cell_type": "code",
      "source": [
        "problem.set_model(knnModel)"
      ],
      "metadata": {
        "id": "IiFNL_LHQ5Q8"
      },
      "execution_count": null,
      "outputs": []
    },
    {
      "cell_type": "markdown",
      "source": [
        "Realizando treino e previsões"
      ],
      "metadata": {
        "id": "dyXpn0TsbFfP"
      }
    },
    {
      "cell_type": "code",
      "source": [
        "problem.train()\n",
        "predict_values = problem.predict()\n",
        "problem.validation(predict_values)"
      ],
      "metadata": {
        "colab": {
          "base_uri": "https://localhost:8080/",
          "height": 303
        },
        "id": "qwSV_ci4TMHI",
        "outputId": "5dea3347-7966-4403-a2c4-0a2cedca32de"
      },
      "execution_count": null,
      "outputs": [
        {
          "output_type": "stream",
          "name": "stdout",
          "text": [
            "\n",
            "Modelo KNeighborsClassifier(metric='euclidean', n_neighbors=9)\n",
            "------------------------------\n",
            "------------------------------\n",
            "Acurácia:  0.8333333333333334\n",
            "Recall:  0.875\n",
            "Precision:  0.8235294117647058\n",
            "f1 Score:  0.8484848484848485\n",
            "------------------------------\n",
            "------------------------------\n",
            "--- Matriz de Confusão ---\n"
          ]
        },
        {
          "output_type": "display_data",
          "data": {
            "text/plain": [
              "     pred_neg  pred_pos\n",
              "neg        11         3\n",
              "pos         2        14"
            ],
            "text/html": [
              "\n",
              "  <div id=\"df-aa3030f3-6568-487f-b5a8-9d684434d4cb\">\n",
              "    <div class=\"colab-df-container\">\n",
              "      <div>\n",
              "<style scoped>\n",
              "    .dataframe tbody tr th:only-of-type {\n",
              "        vertical-align: middle;\n",
              "    }\n",
              "\n",
              "    .dataframe tbody tr th {\n",
              "        vertical-align: top;\n",
              "    }\n",
              "\n",
              "    .dataframe thead th {\n",
              "        text-align: right;\n",
              "    }\n",
              "</style>\n",
              "<table border=\"1\" class=\"dataframe\">\n",
              "  <thead>\n",
              "    <tr style=\"text-align: right;\">\n",
              "      <th></th>\n",
              "      <th>pred_neg</th>\n",
              "      <th>pred_pos</th>\n",
              "    </tr>\n",
              "  </thead>\n",
              "  <tbody>\n",
              "    <tr>\n",
              "      <th>neg</th>\n",
              "      <td>11</td>\n",
              "      <td>3</td>\n",
              "    </tr>\n",
              "    <tr>\n",
              "      <th>pos</th>\n",
              "      <td>2</td>\n",
              "      <td>14</td>\n",
              "    </tr>\n",
              "  </tbody>\n",
              "</table>\n",
              "</div>\n",
              "      <button class=\"colab-df-convert\" onclick=\"convertToInteractive('df-aa3030f3-6568-487f-b5a8-9d684434d4cb')\"\n",
              "              title=\"Convert this dataframe to an interactive table.\"\n",
              "              style=\"display:none;\">\n",
              "        \n",
              "  <svg xmlns=\"http://www.w3.org/2000/svg\" height=\"24px\"viewBox=\"0 0 24 24\"\n",
              "       width=\"24px\">\n",
              "    <path d=\"M0 0h24v24H0V0z\" fill=\"none\"/>\n",
              "    <path d=\"M18.56 5.44l.94 2.06.94-2.06 2.06-.94-2.06-.94-.94-2.06-.94 2.06-2.06.94zm-11 1L8.5 8.5l.94-2.06 2.06-.94-2.06-.94L8.5 2.5l-.94 2.06-2.06.94zm10 10l.94 2.06.94-2.06 2.06-.94-2.06-.94-.94-2.06-.94 2.06-2.06.94z\"/><path d=\"M17.41 7.96l-1.37-1.37c-.4-.4-.92-.59-1.43-.59-.52 0-1.04.2-1.43.59L10.3 9.45l-7.72 7.72c-.78.78-.78 2.05 0 2.83L4 21.41c.39.39.9.59 1.41.59.51 0 1.02-.2 1.41-.59l7.78-7.78 2.81-2.81c.8-.78.8-2.07 0-2.86zM5.41 20L4 18.59l7.72-7.72 1.47 1.35L5.41 20z\"/>\n",
              "  </svg>\n",
              "      </button>\n",
              "      \n",
              "  <style>\n",
              "    .colab-df-container {\n",
              "      display:flex;\n",
              "      flex-wrap:wrap;\n",
              "      gap: 12px;\n",
              "    }\n",
              "\n",
              "    .colab-df-convert {\n",
              "      background-color: #E8F0FE;\n",
              "      border: none;\n",
              "      border-radius: 50%;\n",
              "      cursor: pointer;\n",
              "      display: none;\n",
              "      fill: #1967D2;\n",
              "      height: 32px;\n",
              "      padding: 0 0 0 0;\n",
              "      width: 32px;\n",
              "    }\n",
              "\n",
              "    .colab-df-convert:hover {\n",
              "      background-color: #E2EBFA;\n",
              "      box-shadow: 0px 1px 2px rgba(60, 64, 67, 0.3), 0px 1px 3px 1px rgba(60, 64, 67, 0.15);\n",
              "      fill: #174EA6;\n",
              "    }\n",
              "\n",
              "    [theme=dark] .colab-df-convert {\n",
              "      background-color: #3B4455;\n",
              "      fill: #D2E3FC;\n",
              "    }\n",
              "\n",
              "    [theme=dark] .colab-df-convert:hover {\n",
              "      background-color: #434B5C;\n",
              "      box-shadow: 0px 1px 3px 1px rgba(0, 0, 0, 0.15);\n",
              "      filter: drop-shadow(0px 1px 2px rgba(0, 0, 0, 0.3));\n",
              "      fill: #FFFFFF;\n",
              "    }\n",
              "  </style>\n",
              "\n",
              "      <script>\n",
              "        const buttonEl =\n",
              "          document.querySelector('#df-aa3030f3-6568-487f-b5a8-9d684434d4cb button.colab-df-convert');\n",
              "        buttonEl.style.display =\n",
              "          google.colab.kernel.accessAllowed ? 'block' : 'none';\n",
              "\n",
              "        async function convertToInteractive(key) {\n",
              "          const element = document.querySelector('#df-aa3030f3-6568-487f-b5a8-9d684434d4cb');\n",
              "          const dataTable =\n",
              "            await google.colab.kernel.invokeFunction('convertToInteractive',\n",
              "                                                     [key], {});\n",
              "          if (!dataTable) return;\n",
              "\n",
              "          const docLinkHtml = 'Like what you see? Visit the ' +\n",
              "            '<a target=\"_blank\" href=https://colab.research.google.com/notebooks/data_table.ipynb>data table notebook</a>'\n",
              "            + ' to learn more about interactive tables.';\n",
              "          element.innerHTML = '';\n",
              "          dataTable['output_type'] = 'display_data';\n",
              "          await google.colab.output.renderOutput(dataTable, element);\n",
              "          const docLink = document.createElement('div');\n",
              "          docLink.innerHTML = docLinkHtml;\n",
              "          element.appendChild(docLink);\n",
              "        }\n",
              "      </script>\n",
              "    </div>\n",
              "  </div>\n",
              "  "
            ]
          },
          "metadata": {}
        }
      ]
    },
    {
      "cell_type": "markdown",
      "source": [
        "### **Comparação entre modelos de Classificação:**\n",
        "\n",
        ">Conjunto de dados com 303 instâncias </br>\n",
        ">Um numero de fixo de 273 instâncias é escolhido para testes\n",
        "\n",
        "*   Random Forest\n",
        "    * Acurácia:  0.7666666666666667\n",
        "    * Recall:    0.75\n",
        "    * Precision: 0.8\n",
        "    * f1 Score:  0.7741935483870969\n",
        "\n",
        "\n",
        "*   Decision Tree\n",
        "    * Acurácia:  0.9333333333333333\n",
        "    * Recall:  0.9375\n",
        "    * Precision:  0.9375\n",
        "    * f1 Score:  0.9375\n",
        "\n",
        "*   KNN\n",
        "    * Acurácia:  0.8333333333333334\n",
        "    * Recall:  0.875\n",
        "    * Precision:  0.8235294117647058\n",
        "    * f1 Score:  0.8484848484848485\n",
        "\n",
        "*   XGBoost\n",
        "    * Acurácia:  0.8333333333333334\n",
        "    * Recall:  0.9375\n",
        "    * Precision:  0.7894736842105263\n",
        "    * f1 Score:  0.8571428571428572 "
      ],
      "metadata": {
        "id": "RURgmVBDpX86"
      }
    },
    {
      "cell_type": "markdown",
      "source": [
        "## Entender como o balanceamento dos dados pode influenciar o aprendizado (só em problemas de classificação);"
      ],
      "metadata": {
        "id": "qaUkFbCBpNNx"
      }
    },
    {
      "cell_type": "markdown",
      "source": [
        "Demonstrando que o conjunto de dados está balanceado"
      ],
      "metadata": {
        "id": "CHf8JlDWAiSU"
      }
    },
    {
      "cell_type": "code",
      "source": [
        "# Identificacao grafica da distribuicao das instancias\n",
        "sns.countplot(problem.dataset['output'],label=\"Count\")\n",
        "\n",
        "chance_alta, chance_baixa = problem.dataset['output'].value_counts()\n",
        "print('Chance baixa : ',chance_baixa)\n",
        "print('Chance alta : ',chance_alta)\n",
        "print('---------------------')\n",
        "print('Proporção dos que tem chance baixa: ', 100*chance_baixa/(chance_baixa+chance_alta))\n",
        "print('Proporção dos que tem chance alta: ', 100*chance_alta/(chance_baixa+chance_alta))"
      ],
      "metadata": {
        "id": "gLvWhpkTs_hz",
        "colab": {
          "base_uri": "https://localhost:8080/"
        },
        "outputId": "3660e9f2-f5ff-4f85-a2e7-5baa6b8afb3e"
      },
      "execution_count": null,
      "outputs": [
        {
          "output_type": "stream",
          "name": "stdout",
          "text": [
            "Chance baixa :  138\n",
            "Chance alta :  165\n",
            "---------------------\n",
            "Proporção dos que tem chance baixa:  45.54455445544554\n",
            "Proporção dos que tem chance alta:  54.45544554455446\n"
          ]
        },
        {
          "output_type": "stream",
          "name": "stderr",
          "text": [
            "/usr/local/lib/python3.7/dist-packages/seaborn/_decorators.py:43: FutureWarning: Pass the following variable as a keyword arg: x. From version 0.12, the only valid positional argument will be `data`, and passing other arguments without an explicit keyword will result in an error or misinterpretation.\n",
            "  FutureWarning\n"
          ]
        },
        {
          "output_type": "display_data",
          "data": {
            "text/plain": [
              "<Figure size 432x288 with 1 Axes>"
            ],
            "image/png": "[encoded data removed]"
          },
          "metadata": {
            "needs_background": "light"
          }
        }
      ]
    },
    {
      "cell_type": "markdown",
      "source": [
        "### Conjunto desbalanceado (mais positivo)"
      ],
      "metadata": {
        "id": "HoSN1tne7OB-"
      }
    },
    {
      "cell_type": "markdown",
      "source": [
        "Com uso do método desbalance_dataset, causamos um desbalancemento proposital no conjunto de dados, sem alterar o conjunto de testes"
      ],
      "metadata": {
        "id": "YMLZEn-c-41p"
      }
    },
    {
      "cell_type": "code",
      "source": [
        "problem.desbalance_dataset(type_desbalance=Desbalance.MORE_POSITIVE)"
      ],
      "metadata": {
        "id": "wmi9oMW05u_r"
      },
      "execution_count": null,
      "outputs": []
    },
    {
      "cell_type": "markdown",
      "source": [
        "Provando o desbalanceamento"
      ],
      "metadata": {
        "id": "S8-6AsAy_JCG"
      }
    },
    {
      "cell_type": "code",
      "source": [
        "sns.countplot(problem.dataset['output'],label=\"Count\")\n",
        "\n",
        "chance_alta, chance_baixa = problem.dataset['output'].value_counts()\n",
        "print('Chance baixa : ',chance_baixa)\n",
        "print('Chance alta : ',chance_alta)\n",
        "print('---------------------')\n",
        "print('Proporção dos que tem chance baixa: ', 100*chance_baixa/(chance_baixa+chance_alta))\n",
        "print('Proporção dos que tem chance alta: ', 100*chance_alta/(chance_baixa+chance_alta))"
      ],
      "metadata": {
        "colab": {
          "base_uri": "https://localhost:8080/"
        },
        "id": "rRWzGnAQ7JEL",
        "outputId": "602c1b3a-2ded-43a1-b182-ccb60c5fe46a"
      },
      "execution_count": null,
      "outputs": [
        {
          "output_type": "stream",
          "name": "stderr",
          "text": [
            "/usr/local/lib/python3.7/dist-packages/seaborn/_decorators.py:43: FutureWarning: Pass the following variable as a keyword arg: x. From version 0.12, the only valid positional argument will be `data`, and passing other arguments without an explicit keyword will result in an error or misinterpretation.\n",
            "  FutureWarning\n"
          ]
        },
        {
          "output_type": "stream",
          "name": "stdout",
          "text": [
            "Chance baixa :  25\n",
            "Chance alta :  165\n",
            "---------------------\n",
            "Proporção dos que tem chance baixa:  13.157894736842104\n",
            "Proporção dos que tem chance alta:  86.84210526315789\n"
          ]
        },
        {
          "output_type": "display_data",
          "data": {
            "text/plain": [
              "<Figure size 432x288 with 1 Axes>"
            ],
            "image/png": "[encoded data removed]"
          },
          "metadata": {
            "needs_background": "light"
          }
        }
      ]
    },
    {
      "cell_type": "markdown",
      "source": [
        "Utilizando um modelo como exemplo para verificar os impactos de um conjunto desbalanceado"
      ],
      "metadata": {
        "id": "kdKfzxK6mj6W"
      }
    },
    {
      "cell_type": "code",
      "source": [
        "problem.set_model(knnModel)\n",
        "\n",
        "problem.train()\n",
        "predict_values = problem.predict()\n",
        "problem.validation(predict_values)"
      ],
      "metadata": {
        "colab": {
          "base_uri": "https://localhost:8080/"
        },
        "id": "9Mv4jpdZmkZe",
        "outputId": "ed9e1b24-297c-44a0-cacd-d77bd28c0f95"
      },
      "execution_count": null,
      "outputs": [
        {
          "output_type": "stream",
          "name": "stdout",
          "text": [
            "\n",
            "Modelo KNeighborsClassifier(metric='euclidean', n_neighbors=9)\n",
            "------------------------------\n",
            "------------------------------\n",
            "Acurácia:  0.5333333333333333\n",
            "Recall:  1.0\n",
            "Precision:  0.5333333333333333\n",
            "f1 Score:  0.6956521739130436\n",
            "------------------------------\n",
            "------------------------------\n",
            "--- Matriz de Confusão ---\n"
          ]
        },
        {
          "output_type": "display_data",
          "data": {
            "text/plain": [
              "     pred_neg  pred_pos\n",
              "neg         0        14\n",
              "pos         0        16"
            ],
            "text/html": [
              "\n",
              "  <div id=\"df-fd02365d-af59-403a-80e1-27ef1acd46b6\">\n",
              "    <div class=\"colab-df-container\">\n",
              "      <div>\n",
              "<style scoped>\n",
              "    .dataframe tbody tr th:only-of-type {\n",
              "        vertical-align: middle;\n",
              "    }\n",
              "\n",
              "    .dataframe tbody tr th {\n",
              "        vertical-align: top;\n",
              "    }\n",
              "\n",
              "    .dataframe thead th {\n",
              "        text-align: right;\n",
              "    }\n",
              "</style>\n",
              "<table border=\"1\" class=\"dataframe\">\n",
              "  <thead>\n",
              "    <tr style=\"text-align: right;\">\n",
              "      <th></th>\n",
              "      <th>pred_neg</th>\n",
              "      <th>pred_pos</th>\n",
              "    </tr>\n",
              "  </thead>\n",
              "  <tbody>\n",
              "    <tr>\n",
              "      <th>neg</th>\n",
              "      <td>0</td>\n",
              "      <td>14</td>\n",
              "    </tr>\n",
              "    <tr>\n",
              "      <th>pos</th>\n",
              "      <td>0</td>\n",
              "      <td>16</td>\n",
              "    </tr>\n",
              "  </tbody>\n",
              "</table>\n",
              "</div>\n",
              "      <button class=\"colab-df-convert\" onclick=\"convertToInteractive('df-fd02365d-af59-403a-80e1-27ef1acd46b6')\"\n",
              "              title=\"Convert this dataframe to an interactive table.\"\n",
              "              style=\"display:none;\">\n",
              "        \n",
              "  <svg xmlns=\"http://www.w3.org/2000/svg\" height=\"24px\"viewBox=\"0 0 24 24\"\n",
              "       width=\"24px\">\n",
              "    <path d=\"M0 0h24v24H0V0z\" fill=\"none\"/>\n",
              "    <path d=\"M18.56 5.44l.94 2.06.94-2.06 2.06-.94-2.06-.94-.94-2.06-.94 2.06-2.06.94zm-11 1L8.5 8.5l.94-2.06 2.06-.94-2.06-.94L8.5 2.5l-.94 2.06-2.06.94zm10 10l.94 2.06.94-2.06 2.06-.94-2.06-.94-.94-2.06-.94 2.06-2.06.94z\"/><path d=\"M17.41 7.96l-1.37-1.37c-.4-.4-.92-.59-1.43-.59-.52 0-1.04.2-1.43.59L10.3 9.45l-7.72 7.72c-.78.78-.78 2.05 0 2.83L4 21.41c.39.39.9.59 1.41.59.51 0 1.02-.2 1.41-.59l7.78-7.78 2.81-2.81c.8-.78.8-2.07 0-2.86zM5.41 20L4 18.59l7.72-7.72 1.47 1.35L5.41 20z\"/>\n",
              "  </svg>\n",
              "      </button>\n",
              "      \n",
              "  <style>\n",
              "    .colab-df-container {\n",
              "      display:flex;\n",
              "      flex-wrap:wrap;\n",
              "      gap: 12px;\n",
              "    }\n",
              "\n",
              "    .colab-df-convert {\n",
              "      background-color: #E8F0FE;\n",
              "      border: none;\n",
              "      border-radius: 50%;\n",
              "      cursor: pointer;\n",
              "      display: none;\n",
              "      fill: #1967D2;\n",
              "      height: 32px;\n",
              "      padding: 0 0 0 0;\n",
              "      width: 32px;\n",
              "    }\n",
              "\n",
              "    .colab-df-convert:hover {\n",
              "      background-color: #E2EBFA;\n",
              "      box-shadow: 0px 1px 2px rgba(60, 64, 67, 0.3), 0px 1px 3px 1px rgba(60, 64, 67, 0.15);\n",
              "      fill: #174EA6;\n",
              "    }\n",
              "\n",
              "    [theme=dark] .colab-df-convert {\n",
              "      background-color: #3B4455;\n",
              "      fill: #D2E3FC;\n",
              "    }\n",
              "\n",
              "    [theme=dark] .colab-df-convert:hover {\n",
              "      background-color: #434B5C;\n",
              "      box-shadow: 0px 1px 3px 1px rgba(0, 0, 0, 0.15);\n",
              "      filter: drop-shadow(0px 1px 2px rgba(0, 0, 0, 0.3));\n",
              "      fill: #FFFFFF;\n",
              "    }\n",
              "  </style>\n",
              "\n",
              "      <script>\n",
              "        const buttonEl =\n",
              "          document.querySelector('#df-fd02365d-af59-403a-80e1-27ef1acd46b6 button.colab-df-convert');\n",
              "        buttonEl.style.display =\n",
              "          google.colab.kernel.accessAllowed ? 'block' : 'none';\n",
              "\n",
              "        async function convertToInteractive(key) {\n",
              "          const element = document.querySelector('#df-fd02365d-af59-403a-80e1-27ef1acd46b6');\n",
              "          const dataTable =\n",
              "            await google.colab.kernel.invokeFunction('convertToInteractive',\n",
              "                                                     [key], {});\n",
              "          if (!dataTable) return;\n",
              "\n",
              "          const docLinkHtml = 'Like what you see? Visit the ' +\n",
              "            '<a target=\"_blank\" href=https://colab.research.google.com/notebooks/data_table.ipynb>data table notebook</a>'\n",
              "            + ' to learn more about interactive tables.';\n",
              "          element.innerHTML = '';\n",
              "          dataTable['output_type'] = 'display_data';\n",
              "          await google.colab.output.renderOutput(dataTable, element);\n",
              "          const docLink = document.createElement('div');\n",
              "          docLink.innerHTML = docLinkHtml;\n",
              "          element.appendChild(docLink);\n",
              "        }\n",
              "      </script>\n",
              "    </div>\n",
              "  </div>\n",
              "  "
            ]
          },
          "metadata": {}
        }
      ]
    },
    {
      "cell_type": "markdown",
      "source": [
        "Como o conjunto de dados tem mais instâncias de treinamento para quando uma pessoa tem alta chances de um ataque cardiaco, quando ele encontra uma pessoa que tem baixa chance ele não consegue determinar com precisão se a pessoa realmente tem baixa chance de um ataque cardiaco, isso ocorre porquê o conjunto de treinamento não tem muitas referências para quando pessoas tem baixa chance dentro de seu conjunto de treino"
      ],
      "metadata": {
        "id": "PuGBklAL_nIA"
      }
    },
    {
      "cell_type": "markdown",
      "source": [
        "### Conjunto desbalanceado (mais negativo)"
      ],
      "metadata": {
        "id": "KO_Luri-ARKa"
      }
    },
    {
      "cell_type": "code",
      "source": [
        "problem.desbalance_dataset(type_desbalance=Desbalance.MORE_NEGATIVE)"
      ],
      "metadata": {
        "id": "OvHB9wqtAbih"
      },
      "execution_count": null,
      "outputs": []
    },
    {
      "cell_type": "markdown",
      "source": [
        "## Verificar o impacto de diferentes conjuntos de treinamento sobre o desempenho do modelo (o conjunto de teste deve ser fixo)"
      ],
      "metadata": {
        "id": "rC4IIlxxvbar"
      }
    },
    {
      "cell_type": "code",
      "source": [
        "\"\"\"\n",
        "@var nSets: numero de conjuntos de treinos que quero criar\n",
        "@var conjuntos_train: Essa variavel é um vetor com nSets posições e armazena conjuntos de treinos subdividos a partir de conjunto de treino principal\n",
        "\"\"\"\n",
        "nSets = 2\n",
        "conjuntos_train = problem.subdivideTrainSet(nSets=nSets) \n",
        "conjuntos_train[0]['features']['train'].head()"
      ],
      "metadata": {
        "colab": {
          "base_uri": "https://localhost:8080/",
          "height": 206
        },
        "id": "PRncfgZLvlqg",
        "outputId": "b2b41f49-4e2f-4215-e722-45797762d2eb"
      },
      "execution_count": null,
      "outputs": [
        {
          "output_type": "execute_result",
          "data": {
            "text/plain": [
              "     age  sex  cp  trtbps  chol  fbs  restecg  thalachh  exng  oldpeak  slp  \\\n",
              "155   15    0   0       7     7    0        1         8     0        2    1   \n",
              "161   12    0   1       8    33    0        1        21     0        4    2   \n",
              "151   24    0   0       1     0    0        1         5     0        7    1   \n",
              "179   14    1   0      12    26    0        0         2     1        2    1   \n",
              "171    8    1   1       0    16    0        1        22     0        3    0   \n",
              "\n",
              "     caa  thall  \n",
              "155    0      1  \n",
              "161    0      1  \n",
              "151    0      1  \n",
              "179    1      0  \n",
              "171    0      2  "
            ],
            "text/html": [
              "\n",
              "  <div id=\"df-807a5d74-01b7-439b-9a66-135090875aa2\">\n",
              "    <div class=\"colab-df-container\">\n",
              "      <div>\n",
              "<style scoped>\n",
              "    .dataframe tbody tr th:only-of-type {\n",
              "        vertical-align: middle;\n",
              "    }\n",
              "\n",
              "    .dataframe tbody tr th {\n",
              "        vertical-align: top;\n",
              "    }\n",
              "\n",
              "    .dataframe thead th {\n",
              "        text-align: right;\n",
              "    }\n",
              "</style>\n",
              "<table border=\"1\" class=\"dataframe\">\n",
              "  <thead>\n",
              "    <tr style=\"text-align: right;\">\n",
              "      <th></th>\n",
              "      <th>age</th>\n",
              "      <th>sex</th>\n",
              "      <th>cp</th>\n",
              "      <th>trtbps</th>\n",
              "      <th>chol</th>\n",
              "      <th>fbs</th>\n",
              "      <th>restecg</th>\n",
              "      <th>thalachh</th>\n",
              "      <th>exng</th>\n",
              "      <th>oldpeak</th>\n",
              "      <th>slp</th>\n",
              "      <th>caa</th>\n",
              "      <th>thall</th>\n",
              "    </tr>\n",
              "  </thead>\n",
              "  <tbody>\n",
              "    <tr>\n",
              "      <th>155</th>\n",
              "      <td>15</td>\n",
              "      <td>0</td>\n",
              "      <td>0</td>\n",
              "      <td>7</td>\n",
              "      <td>7</td>\n",
              "      <td>0</td>\n",
              "      <td>1</td>\n",
              "      <td>8</td>\n",
              "      <td>0</td>\n",
              "      <td>2</td>\n",
              "      <td>1</td>\n",
              "      <td>0</td>\n",
              "      <td>1</td>\n",
              "    </tr>\n",
              "    <tr>\n",
              "      <th>161</th>\n",
              "      <td>12</td>\n",
              "      <td>0</td>\n",
              "      <td>1</td>\n",
              "      <td>8</td>\n",
              "      <td>33</td>\n",
              "      <td>0</td>\n",
              "      <td>1</td>\n",
              "      <td>21</td>\n",
              "      <td>0</td>\n",
              "      <td>4</td>\n",
              "      <td>2</td>\n",
              "      <td>0</td>\n",
              "      <td>1</td>\n",
              "    </tr>\n",
              "    <tr>\n",
              "      <th>151</th>\n",
              "      <td>24</td>\n",
              "      <td>0</td>\n",
              "      <td>0</td>\n",
              "      <td>1</td>\n",
              "      <td>0</td>\n",
              "      <td>0</td>\n",
              "      <td>1</td>\n",
              "      <td>5</td>\n",
              "      <td>0</td>\n",
              "      <td>7</td>\n",
              "      <td>1</td>\n",
              "      <td>0</td>\n",
              "      <td>1</td>\n",
              "    </tr>\n",
              "    <tr>\n",
              "      <th>179</th>\n",
              "      <td>14</td>\n",
              "      <td>1</td>\n",
              "      <td>0</td>\n",
              "      <td>12</td>\n",
              "      <td>26</td>\n",
              "      <td>0</td>\n",
              "      <td>0</td>\n",
              "      <td>2</td>\n",
              "      <td>1</td>\n",
              "      <td>2</td>\n",
              "      <td>1</td>\n",
              "      <td>1</td>\n",
              "      <td>0</td>\n",
              "    </tr>\n",
              "    <tr>\n",
              "      <th>171</th>\n",
              "      <td>8</td>\n",
              "      <td>1</td>\n",
              "      <td>1</td>\n",
              "      <td>0</td>\n",
              "      <td>16</td>\n",
              "      <td>0</td>\n",
              "      <td>1</td>\n",
              "      <td>22</td>\n",
              "      <td>0</td>\n",
              "      <td>3</td>\n",
              "      <td>0</td>\n",
              "      <td>0</td>\n",
              "      <td>2</td>\n",
              "    </tr>\n",
              "  </tbody>\n",
              "</table>\n",
              "</div>\n",
              "      <button class=\"colab-df-convert\" onclick=\"convertToInteractive('df-807a5d74-01b7-439b-9a66-135090875aa2')\"\n",
              "              title=\"Convert this dataframe to an interactive table.\"\n",
              "              style=\"display:none;\">\n",
              "        \n",
              "  <svg xmlns=\"http://www.w3.org/2000/svg\" height=\"24px\"viewBox=\"0 0 24 24\"\n",
              "       width=\"24px\">\n",
              "    <path d=\"M0 0h24v24H0V0z\" fill=\"none\"/>\n",
              "    <path d=\"M18.56 5.44l.94 2.06.94-2.06 2.06-.94-2.06-.94-.94-2.06-.94 2.06-2.06.94zm-11 1L8.5 8.5l.94-2.06 2.06-.94-2.06-.94L8.5 2.5l-.94 2.06-2.06.94zm10 10l.94 2.06.94-2.06 2.06-.94-2.06-.94-.94-2.06-.94 2.06-2.06.94z\"/><path d=\"M17.41 7.96l-1.37-1.37c-.4-.4-.92-.59-1.43-.59-.52 0-1.04.2-1.43.59L10.3 9.45l-7.72 7.72c-.78.78-.78 2.05 0 2.83L4 21.41c.39.39.9.59 1.41.59.51 0 1.02-.2 1.41-.59l7.78-7.78 2.81-2.81c.8-.78.8-2.07 0-2.86zM5.41 20L4 18.59l7.72-7.72 1.47 1.35L5.41 20z\"/>\n",
              "  </svg>\n",
              "      </button>\n",
              "      \n",
              "  <style>\n",
              "    .colab-df-container {\n",
              "      display:flex;\n",
              "      flex-wrap:wrap;\n",
              "      gap: 12px;\n",
              "    }\n",
              "\n",
              "    .colab-df-convert {\n",
              "      background-color: #E8F0FE;\n",
              "      border: none;\n",
              "      border-radius: 50%;\n",
              "      cursor: pointer;\n",
              "      display: none;\n",
              "      fill: #1967D2;\n",
              "      height: 32px;\n",
              "      padding: 0 0 0 0;\n",
              "      width: 32px;\n",
              "    }\n",
              "\n",
              "    .colab-df-convert:hover {\n",
              "      background-color: #E2EBFA;\n",
              "      box-shadow: 0px 1px 2px rgba(60, 64, 67, 0.3), 0px 1px 3px 1px rgba(60, 64, 67, 0.15);\n",
              "      fill: #174EA6;\n",
              "    }\n",
              "\n",
              "    [theme=dark] .colab-df-convert {\n",
              "      background-color: #3B4455;\n",
              "      fill: #D2E3FC;\n",
              "    }\n",
              "\n",
              "    [theme=dark] .colab-df-convert:hover {\n",
              "      background-color: #434B5C;\n",
              "      box-shadow: 0px 1px 3px 1px rgba(0, 0, 0, 0.15);\n",
              "      filter: drop-shadow(0px 1px 2px rgba(0, 0, 0, 0.3));\n",
              "      fill: #FFFFFF;\n",
              "    }\n",
              "  </style>\n",
              "\n",
              "      <script>\n",
              "        const buttonEl =\n",
              "          document.querySelector('#df-807a5d74-01b7-439b-9a66-135090875aa2 button.colab-df-convert');\n",
              "        buttonEl.style.display =\n",
              "          google.colab.kernel.accessAllowed ? 'block' : 'none';\n",
              "\n",
              "        async function convertToInteractive(key) {\n",
              "          const element = document.querySelector('#df-807a5d74-01b7-439b-9a66-135090875aa2');\n",
              "          const dataTable =\n",
              "            await google.colab.kernel.invokeFunction('convertToInteractive',\n",
              "                                                     [key], {});\n",
              "          if (!dataTable) return;\n",
              "\n",
              "          const docLinkHtml = 'Like what you see? Visit the ' +\n",
              "            '<a target=\"_blank\" href=https://colab.research.google.com/notebooks/data_table.ipynb>data table notebook</a>'\n",
              "            + ' to learn more about interactive tables.';\n",
              "          element.innerHTML = '';\n",
              "          dataTable['output_type'] = 'display_data';\n",
              "          await google.colab.output.renderOutput(dataTable, element);\n",
              "          const docLink = document.createElement('div');\n",
              "          docLink.innerHTML = docLinkHtml;\n",
              "          element.appendChild(docLink);\n",
              "        }\n",
              "      </script>\n",
              "    </div>\n",
              "  </div>\n",
              "  "
            ]
          },
          "metadata": {},
          "execution_count": 27
        }
      ]
    },
    {
      "cell_type": "markdown",
      "source": [
        "###Random Forest"
      ],
      "metadata": {
        "id": "1z9zmBLwxgNN"
      }
    },
    {
      "cell_type": "code",
      "source": [
        "problem.set_model(randomf_model)\n",
        "\n",
        "for i in range(0, nSets):\n",
        "  problem.train(conjuntos_train[i])\n",
        "\n",
        "  predict_values = problem.predict()\n",
        "  problem.validation(predict_values)"
      ],
      "metadata": {
        "colab": {
          "base_uri": "https://localhost:8080/",
          "height": 644
        },
        "id": "WaANgIa1xmPC",
        "outputId": "401b1905-a956-4920-a641-2e89f54e878f"
      },
      "execution_count": null,
      "outputs": [
        {
          "output_type": "stream",
          "name": "stdout",
          "text": [
            "\n",
            "Modelo RandomForestClassifier(n_estimators=9)\n",
            "------------------------------\n",
            "------------------------------\n",
            "Acurácia:  0.4666666666666667\n",
            "Recall:  0.625\n",
            "Precision:  0.5\n",
            "f1 Score:  0.5555555555555556\n",
            "------------------------------\n",
            "------------------------------\n",
            "--- Matriz de Confusão ---\n"
          ]
        },
        {
          "output_type": "stream",
          "name": "stderr",
          "text": [
            "/usr/local/lib/python3.7/dist-packages/ipykernel_launcher.py:137: DataConversionWarning: A column-vector y was passed when a 1d array was expected. Please change the shape of y to (n_samples,), for example using ravel().\n"
          ]
        },
        {
          "output_type": "display_data",
          "data": {
            "text/plain": [
              "     pred_neg  pred_pos\n",
              "neg         4        10\n",
              "pos         6        10"
            ],
            "text/html": [
              "\n",
              "  <div id=\"df-a27033b4-b93b-4ba0-b53f-353056d8c71f\">\n",
              "    <div class=\"colab-df-container\">\n",
              "      <div>\n",
              "<style scoped>\n",
              "    .dataframe tbody tr th:only-of-type {\n",
              "        vertical-align: middle;\n",
              "    }\n",
              "\n",
              "    .dataframe tbody tr th {\n",
              "        vertical-align: top;\n",
              "    }\n",
              "\n",
              "    .dataframe thead th {\n",
              "        text-align: right;\n",
              "    }\n",
              "</style>\n",
              "<table border=\"1\" class=\"dataframe\">\n",
              "  <thead>\n",
              "    <tr style=\"text-align: right;\">\n",
              "      <th></th>\n",
              "      <th>pred_neg</th>\n",
              "      <th>pred_pos</th>\n",
              "    </tr>\n",
              "  </thead>\n",
              "  <tbody>\n",
              "    <tr>\n",
              "      <th>neg</th>\n",
              "      <td>4</td>\n",
              "      <td>10</td>\n",
              "    </tr>\n",
              "    <tr>\n",
              "      <th>pos</th>\n",
              "      <td>6</td>\n",
              "      <td>10</td>\n",
              "    </tr>\n",
              "  </tbody>\n",
              "</table>\n",
              "</div>\n",
              "      <button class=\"colab-df-convert\" onclick=\"convertToInteractive('df-a27033b4-b93b-4ba0-b53f-353056d8c71f')\"\n",
              "              title=\"Convert this dataframe to an interactive table.\"\n",
              "              style=\"display:none;\">\n",
              "        \n",
              "  <svg xmlns=\"http://www.w3.org/2000/svg\" height=\"24px\"viewBox=\"0 0 24 24\"\n",
              "       width=\"24px\">\n",
              "    <path d=\"M0 0h24v24H0V0z\" fill=\"none\"/>\n",
              "    <path d=\"M18.56 5.44l.94 2.06.94-2.06 2.06-.94-2.06-.94-.94-2.06-.94 2.06-2.06.94zm-11 1L8.5 8.5l.94-2.06 2.06-.94-2.06-.94L8.5 2.5l-.94 2.06-2.06.94zm10 10l.94 2.06.94-2.06 2.06-.94-2.06-.94-.94-2.06-.94 2.06-2.06.94z\"/><path d=\"M17.41 7.96l-1.37-1.37c-.4-.4-.92-.59-1.43-.59-.52 0-1.04.2-1.43.59L10.3 9.45l-7.72 7.72c-.78.78-.78 2.05 0 2.83L4 21.41c.39.39.9.59 1.41.59.51 0 1.02-.2 1.41-.59l7.78-7.78 2.81-2.81c.8-.78.8-2.07 0-2.86zM5.41 20L4 18.59l7.72-7.72 1.47 1.35L5.41 20z\"/>\n",
              "  </svg>\n",
              "      </button>\n",
              "      \n",
              "  <style>\n",
              "    .colab-df-container {\n",
              "      display:flex;\n",
              "      flex-wrap:wrap;\n",
              "      gap: 12px;\n",
              "    }\n",
              "\n",
              "    .colab-df-convert {\n",
              "      background-color: #E8F0FE;\n",
              "      border: none;\n",
              "      border-radius: 50%;\n",
              "      cursor: pointer;\n",
              "      display: none;\n",
              "      fill: #1967D2;\n",
              "      height: 32px;\n",
              "      padding: 0 0 0 0;\n",
              "      width: 32px;\n",
              "    }\n",
              "\n",
              "    .colab-df-convert:hover {\n",
              "      background-color: #E2EBFA;\n",
              "      box-shadow: 0px 1px 2px rgba(60, 64, 67, 0.3), 0px 1px 3px 1px rgba(60, 64, 67, 0.15);\n",
              "      fill: #174EA6;\n",
              "    }\n",
              "\n",
              "    [theme=dark] .colab-df-convert {\n",
              "      background-color: #3B4455;\n",
              "      fill: #D2E3FC;\n",
              "    }\n",
              "\n",
              "    [theme=dark] .colab-df-convert:hover {\n",
              "      background-color: #434B5C;\n",
              "      box-shadow: 0px 1px 3px 1px rgba(0, 0, 0, 0.15);\n",
              "      filter: drop-shadow(0px 1px 2px rgba(0, 0, 0, 0.3));\n",
              "      fill: #FFFFFF;\n",
              "    }\n",
              "  </style>\n",
              "\n",
              "      <script>\n",
              "        const buttonEl =\n",
              "          document.querySelector('#df-a27033b4-b93b-4ba0-b53f-353056d8c71f button.colab-df-convert');\n",
              "        buttonEl.style.display =\n",
              "          google.colab.kernel.accessAllowed ? 'block' : 'none';\n",
              "\n",
              "        async function convertToInteractive(key) {\n",
              "          const element = document.querySelector('#df-a27033b4-b93b-4ba0-b53f-353056d8c71f');\n",
              "          const dataTable =\n",
              "            await google.colab.kernel.invokeFunction('convertToInteractive',\n",
              "                                                     [key], {});\n",
              "          if (!dataTable) return;\n",
              "\n",
              "          const docLinkHtml = 'Like what you see? Visit the ' +\n",
              "            '<a target=\"_blank\" href=https://colab.research.google.com/notebooks/data_table.ipynb>data table notebook</a>'\n",
              "            + ' to learn more about interactive tables.';\n",
              "          element.innerHTML = '';\n",
              "          dataTable['output_type'] = 'display_data';\n",
              "          await google.colab.output.renderOutput(dataTable, element);\n",
              "          const docLink = document.createElement('div');\n",
              "          docLink.innerHTML = docLinkHtml;\n",
              "          element.appendChild(docLink);\n",
              "        }\n",
              "      </script>\n",
              "    </div>\n",
              "  </div>\n",
              "  "
            ]
          },
          "metadata": {}
        },
        {
          "output_type": "stream",
          "name": "stdout",
          "text": [
            "\n",
            "Modelo RandomForestClassifier(n_estimators=9)\n",
            "------------------------------\n",
            "------------------------------\n",
            "Acurácia:  0.5\n",
            "Recall:  0.0625\n",
            "Precision:  1.0\n",
            "f1 Score:  0.11764705882352941\n",
            "------------------------------\n",
            "------------------------------\n",
            "--- Matriz de Confusão ---\n"
          ]
        },
        {
          "output_type": "stream",
          "name": "stderr",
          "text": [
            "/usr/local/lib/python3.7/dist-packages/ipykernel_launcher.py:137: DataConversionWarning: A column-vector y was passed when a 1d array was expected. Please change the shape of y to (n_samples,), for example using ravel().\n"
          ]
        },
        {
          "output_type": "display_data",
          "data": {
            "text/plain": [
              "     pred_neg  pred_pos\n",
              "neg        14         0\n",
              "pos        15         1"
            ],
            "text/html": [
              "\n",
              "  <div id=\"df-536fdf53-14d3-4035-8007-b8f6b9b01195\">\n",
              "    <div class=\"colab-df-container\">\n",
              "      <div>\n",
              "<style scoped>\n",
              "    .dataframe tbody tr th:only-of-type {\n",
              "        vertical-align: middle;\n",
              "    }\n",
              "\n",
              "    .dataframe tbody tr th {\n",
              "        vertical-align: top;\n",
              "    }\n",
              "\n",
              "    .dataframe thead th {\n",
              "        text-align: right;\n",
              "    }\n",
              "</style>\n",
              "<table border=\"1\" class=\"dataframe\">\n",
              "  <thead>\n",
              "    <tr style=\"text-align: right;\">\n",
              "      <th></th>\n",
              "      <th>pred_neg</th>\n",
              "      <th>pred_pos</th>\n",
              "    </tr>\n",
              "  </thead>\n",
              "  <tbody>\n",
              "    <tr>\n",
              "      <th>neg</th>\n",
              "      <td>14</td>\n",
              "      <td>0</td>\n",
              "    </tr>\n",
              "    <tr>\n",
              "      <th>pos</th>\n",
              "      <td>15</td>\n",
              "      <td>1</td>\n",
              "    </tr>\n",
              "  </tbody>\n",
              "</table>\n",
              "</div>\n",
              "      <button class=\"colab-df-convert\" onclick=\"convertToInteractive('df-536fdf53-14d3-4035-8007-b8f6b9b01195')\"\n",
              "              title=\"Convert this dataframe to an interactive table.\"\n",
              "              style=\"display:none;\">\n",
              "        \n",
              "  <svg xmlns=\"http://www.w3.org/2000/svg\" height=\"24px\"viewBox=\"0 0 24 24\"\n",
              "       width=\"24px\">\n",
              "    <path d=\"M0 0h24v24H0V0z\" fill=\"none\"/>\n",
              "    <path d=\"M18.56 5.44l.94 2.06.94-2.06 2.06-.94-2.06-.94-.94-2.06-.94 2.06-2.06.94zm-11 1L8.5 8.5l.94-2.06 2.06-.94-2.06-.94L8.5 2.5l-.94 2.06-2.06.94zm10 10l.94 2.06.94-2.06 2.06-.94-2.06-.94-.94-2.06-.94 2.06-2.06.94z\"/><path d=\"M17.41 7.96l-1.37-1.37c-.4-.4-.92-.59-1.43-.59-.52 0-1.04.2-1.43.59L10.3 9.45l-7.72 7.72c-.78.78-.78 2.05 0 2.83L4 21.41c.39.39.9.59 1.41.59.51 0 1.02-.2 1.41-.59l7.78-7.78 2.81-2.81c.8-.78.8-2.07 0-2.86zM5.41 20L4 18.59l7.72-7.72 1.47 1.35L5.41 20z\"/>\n",
              "  </svg>\n",
              "      </button>\n",
              "      \n",
              "  <style>\n",
              "    .colab-df-container {\n",
              "      display:flex;\n",
              "      flex-wrap:wrap;\n",
              "      gap: 12px;\n",
              "    }\n",
              "\n",
              "    .colab-df-convert {\n",
              "      background-color: #E8F0FE;\n",
              "      border: none;\n",
              "      border-radius: 50%;\n",
              "      cursor: pointer;\n",
              "      display: none;\n",
              "      fill: #1967D2;\n",
              "      height: 32px;\n",
              "      padding: 0 0 0 0;\n",
              "      width: 32px;\n",
              "    }\n",
              "\n",
              "    .colab-df-convert:hover {\n",
              "      background-color: #E2EBFA;\n",
              "      box-shadow: 0px 1px 2px rgba(60, 64, 67, 0.3), 0px 1px 3px 1px rgba(60, 64, 67, 0.15);\n",
              "      fill: #174EA6;\n",
              "    }\n",
              "\n",
              "    [theme=dark] .colab-df-convert {\n",
              "      background-color: #3B4455;\n",
              "      fill: #D2E3FC;\n",
              "    }\n",
              "\n",
              "    [theme=dark] .colab-df-convert:hover {\n",
              "      background-color: #434B5C;\n",
              "      box-shadow: 0px 1px 3px 1px rgba(0, 0, 0, 0.15);\n",
              "      filter: drop-shadow(0px 1px 2px rgba(0, 0, 0, 0.3));\n",
              "      fill: #FFFFFF;\n",
              "    }\n",
              "  </style>\n",
              "\n",
              "      <script>\n",
              "        const buttonEl =\n",
              "          document.querySelector('#df-536fdf53-14d3-4035-8007-b8f6b9b01195 button.colab-df-convert');\n",
              "        buttonEl.style.display =\n",
              "          google.colab.kernel.accessAllowed ? 'block' : 'none';\n",
              "\n",
              "        async function convertToInteractive(key) {\n",
              "          const element = document.querySelector('#df-536fdf53-14d3-4035-8007-b8f6b9b01195');\n",
              "          const dataTable =\n",
              "            await google.colab.kernel.invokeFunction('convertToInteractive',\n",
              "                                                     [key], {});\n",
              "          if (!dataTable) return;\n",
              "\n",
              "          const docLinkHtml = 'Like what you see? Visit the ' +\n",
              "            '<a target=\"_blank\" href=https://colab.research.google.com/notebooks/data_table.ipynb>data table notebook</a>'\n",
              "            + ' to learn more about interactive tables.';\n",
              "          element.innerHTML = '';\n",
              "          dataTable['output_type'] = 'display_data';\n",
              "          await google.colab.output.renderOutput(dataTable, element);\n",
              "          const docLink = document.createElement('div');\n",
              "          docLink.innerHTML = docLinkHtml;\n",
              "          element.appendChild(docLink);\n",
              "        }\n",
              "      </script>\n",
              "    </div>\n",
              "  </div>\n",
              "  "
            ]
          },
          "metadata": {}
        }
      ]
    },
    {
      "cell_type": "markdown",
      "source": [
        "###   Decision Tree"
      ],
      "metadata": {
        "id": "iSSBPYfvw-a7"
      }
    },
    {
      "cell_type": "code",
      "source": [
        "problem.set_model(dstModel)\n",
        "\n",
        "for i in range(0, nSets):\n",
        "  problem.train(conjuntos_train[i])\n",
        "\n",
        "  predict_values = problem.predict()\n",
        "  problem.validation(predict_values)"
      ],
      "metadata": {
        "colab": {
          "base_uri": "https://localhost:8080/",
          "height": 679
        },
        "id": "A74nxcVXvucf",
        "outputId": "72df0751-ab75-4be4-fde0-6ee9146e6bc1"
      },
      "execution_count": null,
      "outputs": [
        {
          "output_type": "stream",
          "name": "stdout",
          "text": [
            "\n",
            "Modelo DecisionTreeClassifier(min_samples_leaf=8)\n",
            "------------------------------\n",
            "------------------------------\n",
            "Acurácia:  0.4666666666666667\n",
            "Recall:  0.0\n",
            "Precision:  0.0\n",
            "f1 Score:  0.0\n",
            "------------------------------\n",
            "------------------------------\n",
            "--- Matriz de Confusão ---\n"
          ]
        },
        {
          "output_type": "stream",
          "name": "stderr",
          "text": [
            "/usr/local/lib/python3.7/dist-packages/sklearn/metrics/_classification.py:1318: UndefinedMetricWarning: Precision is ill-defined and being set to 0.0 due to no predicted samples. Use `zero_division` parameter to control this behavior.\n",
            "  _warn_prf(average, modifier, msg_start, len(result))\n"
          ]
        },
        {
          "output_type": "display_data",
          "data": {
            "text/plain": [
              "     pred_neg  pred_pos\n",
              "neg        14         0\n",
              "pos        16         0"
            ],
            "text/html": [
              "\n",
              "  <div id=\"df-1780659f-34ac-4e96-9495-fa9d4291b860\">\n",
              "    <div class=\"colab-df-container\">\n",
              "      <div>\n",
              "<style scoped>\n",
              "    .dataframe tbody tr th:only-of-type {\n",
              "        vertical-align: middle;\n",
              "    }\n",
              "\n",
              "    .dataframe tbody tr th {\n",
              "        vertical-align: top;\n",
              "    }\n",
              "\n",
              "    .dataframe thead th {\n",
              "        text-align: right;\n",
              "    }\n",
              "</style>\n",
              "<table border=\"1\" class=\"dataframe\">\n",
              "  <thead>\n",
              "    <tr style=\"text-align: right;\">\n",
              "      <th></th>\n",
              "      <th>pred_neg</th>\n",
              "      <th>pred_pos</th>\n",
              "    </tr>\n",
              "  </thead>\n",
              "  <tbody>\n",
              "    <tr>\n",
              "      <th>neg</th>\n",
              "      <td>14</td>\n",
              "      <td>0</td>\n",
              "    </tr>\n",
              "    <tr>\n",
              "      <th>pos</th>\n",
              "      <td>16</td>\n",
              "      <td>0</td>\n",
              "    </tr>\n",
              "  </tbody>\n",
              "</table>\n",
              "</div>\n",
              "      <button class=\"colab-df-convert\" onclick=\"convertToInteractive('df-1780659f-34ac-4e96-9495-fa9d4291b860')\"\n",
              "              title=\"Convert this dataframe to an interactive table.\"\n",
              "              style=\"display:none;\">\n",
              "        \n",
              "  <svg xmlns=\"http://www.w3.org/2000/svg\" height=\"24px\"viewBox=\"0 0 24 24\"\n",
              "       width=\"24px\">\n",
              "    <path d=\"M0 0h24v24H0V0z\" fill=\"none\"/>\n",
              "    <path d=\"M18.56 5.44l.94 2.06.94-2.06 2.06-.94-2.06-.94-.94-2.06-.94 2.06-2.06.94zm-11 1L8.5 8.5l.94-2.06 2.06-.94-2.06-.94L8.5 2.5l-.94 2.06-2.06.94zm10 10l.94 2.06.94-2.06 2.06-.94-2.06-.94-.94-2.06-.94 2.06-2.06.94z\"/><path d=\"M17.41 7.96l-1.37-1.37c-.4-.4-.92-.59-1.43-.59-.52 0-1.04.2-1.43.59L10.3 9.45l-7.72 7.72c-.78.78-.78 2.05 0 2.83L4 21.41c.39.39.9.59 1.41.59.51 0 1.02-.2 1.41-.59l7.78-7.78 2.81-2.81c.8-.78.8-2.07 0-2.86zM5.41 20L4 18.59l7.72-7.72 1.47 1.35L5.41 20z\"/>\n",
              "  </svg>\n",
              "      </button>\n",
              "      \n",
              "  <style>\n",
              "    .colab-df-container {\n",
              "      display:flex;\n",
              "      flex-wrap:wrap;\n",
              "      gap: 12px;\n",
              "    }\n",
              "\n",
              "    .colab-df-convert {\n",
              "      background-color: #E8F0FE;\n",
              "      border: none;\n",
              "      border-radius: 50%;\n",
              "      cursor: pointer;\n",
              "      display: none;\n",
              "      fill: #1967D2;\n",
              "      height: 32px;\n",
              "      padding: 0 0 0 0;\n",
              "      width: 32px;\n",
              "    }\n",
              "\n",
              "    .colab-df-convert:hover {\n",
              "      background-color: #E2EBFA;\n",
              "      box-shadow: 0px 1px 2px rgba(60, 64, 67, 0.3), 0px 1px 3px 1px rgba(60, 64, 67, 0.15);\n",
              "      fill: #174EA6;\n",
              "    }\n",
              "\n",
              "    [theme=dark] .colab-df-convert {\n",
              "      background-color: #3B4455;\n",
              "      fill: #D2E3FC;\n",
              "    }\n",
              "\n",
              "    [theme=dark] .colab-df-convert:hover {\n",
              "      background-color: #434B5C;\n",
              "      box-shadow: 0px 1px 3px 1px rgba(0, 0, 0, 0.15);\n",
              "      filter: drop-shadow(0px 1px 2px rgba(0, 0, 0, 0.3));\n",
              "      fill: #FFFFFF;\n",
              "    }\n",
              "  </style>\n",
              "\n",
              "      <script>\n",
              "        const buttonEl =\n",
              "          document.querySelector('#df-1780659f-34ac-4e96-9495-fa9d4291b860 button.colab-df-convert');\n",
              "        buttonEl.style.display =\n",
              "          google.colab.kernel.accessAllowed ? 'block' : 'none';\n",
              "\n",
              "        async function convertToInteractive(key) {\n",
              "          const element = document.querySelector('#df-1780659f-34ac-4e96-9495-fa9d4291b860');\n",
              "          const dataTable =\n",
              "            await google.colab.kernel.invokeFunction('convertToInteractive',\n",
              "                                                     [key], {});\n",
              "          if (!dataTable) return;\n",
              "\n",
              "          const docLinkHtml = 'Like what you see? Visit the ' +\n",
              "            '<a target=\"_blank\" href=https://colab.research.google.com/notebooks/data_table.ipynb>data table notebook</a>'\n",
              "            + ' to learn more about interactive tables.';\n",
              "          element.innerHTML = '';\n",
              "          dataTable['output_type'] = 'display_data';\n",
              "          await google.colab.output.renderOutput(dataTable, element);\n",
              "          const docLink = document.createElement('div');\n",
              "          docLink.innerHTML = docLinkHtml;\n",
              "          element.appendChild(docLink);\n",
              "        }\n",
              "      </script>\n",
              "    </div>\n",
              "  </div>\n",
              "  "
            ]
          },
          "metadata": {}
        },
        {
          "output_type": "stream",
          "name": "stdout",
          "text": [
            "\n",
            "Modelo DecisionTreeClassifier(min_samples_leaf=8)\n",
            "------------------------------\n",
            "------------------------------\n",
            "Acurácia:  0.4666666666666667\n",
            "Recall:  0.0\n",
            "Precision:  0.0\n",
            "f1 Score:  0.0\n",
            "------------------------------\n",
            "------------------------------\n",
            "--- Matriz de Confusão ---\n"
          ]
        },
        {
          "output_type": "stream",
          "name": "stderr",
          "text": [
            "/usr/local/lib/python3.7/dist-packages/sklearn/metrics/_classification.py:1318: UndefinedMetricWarning: Precision is ill-defined and being set to 0.0 due to no predicted samples. Use `zero_division` parameter to control this behavior.\n",
            "  _warn_prf(average, modifier, msg_start, len(result))\n"
          ]
        },
        {
          "output_type": "display_data",
          "data": {
            "text/plain": [
              "     pred_neg  pred_pos\n",
              "neg        14         0\n",
              "pos        16         0"
            ],
            "text/html": [
              "\n",
              "  <div id=\"df-3f3af3a7-16e8-4120-89dc-2080e0c52bd0\">\n",
              "    <div class=\"colab-df-container\">\n",
              "      <div>\n",
              "<style scoped>\n",
              "    .dataframe tbody tr th:only-of-type {\n",
              "        vertical-align: middle;\n",
              "    }\n",
              "\n",
              "    .dataframe tbody tr th {\n",
              "        vertical-align: top;\n",
              "    }\n",
              "\n",
              "    .dataframe thead th {\n",
              "        text-align: right;\n",
              "    }\n",
              "</style>\n",
              "<table border=\"1\" class=\"dataframe\">\n",
              "  <thead>\n",
              "    <tr style=\"text-align: right;\">\n",
              "      <th></th>\n",
              "      <th>pred_neg</th>\n",
              "      <th>pred_pos</th>\n",
              "    </tr>\n",
              "  </thead>\n",
              "  <tbody>\n",
              "    <tr>\n",
              "      <th>neg</th>\n",
              "      <td>14</td>\n",
              "      <td>0</td>\n",
              "    </tr>\n",
              "    <tr>\n",
              "      <th>pos</th>\n",
              "      <td>16</td>\n",
              "      <td>0</td>\n",
              "    </tr>\n",
              "  </tbody>\n",
              "</table>\n",
              "</div>\n",
              "      <button class=\"colab-df-convert\" onclick=\"convertToInteractive('df-3f3af3a7-16e8-4120-89dc-2080e0c52bd0')\"\n",
              "              title=\"Convert this dataframe to an interactive table.\"\n",
              "              style=\"display:none;\">\n",
              "        \n",
              "  <svg xmlns=\"http://www.w3.org/2000/svg\" height=\"24px\"viewBox=\"0 0 24 24\"\n",
              "       width=\"24px\">\n",
              "    <path d=\"M0 0h24v24H0V0z\" fill=\"none\"/>\n",
              "    <path d=\"M18.56 5.44l.94 2.06.94-2.06 2.06-.94-2.06-.94-.94-2.06-.94 2.06-2.06.94zm-11 1L8.5 8.5l.94-2.06 2.06-.94-2.06-.94L8.5 2.5l-.94 2.06-2.06.94zm10 10l.94 2.06.94-2.06 2.06-.94-2.06-.94-.94-2.06-.94 2.06-2.06.94z\"/><path d=\"M17.41 7.96l-1.37-1.37c-.4-.4-.92-.59-1.43-.59-.52 0-1.04.2-1.43.59L10.3 9.45l-7.72 7.72c-.78.78-.78 2.05 0 2.83L4 21.41c.39.39.9.59 1.41.59.51 0 1.02-.2 1.41-.59l7.78-7.78 2.81-2.81c.8-.78.8-2.07 0-2.86zM5.41 20L4 18.59l7.72-7.72 1.47 1.35L5.41 20z\"/>\n",
              "  </svg>\n",
              "      </button>\n",
              "      \n",
              "  <style>\n",
              "    .colab-df-container {\n",
              "      display:flex;\n",
              "      flex-wrap:wrap;\n",
              "      gap: 12px;\n",
              "    }\n",
              "\n",
              "    .colab-df-convert {\n",
              "      background-color: #E8F0FE;\n",
              "      border: none;\n",
              "      border-radius: 50%;\n",
              "      cursor: pointer;\n",
              "      display: none;\n",
              "      fill: #1967D2;\n",
              "      height: 32px;\n",
              "      padding: 0 0 0 0;\n",
              "      width: 32px;\n",
              "    }\n",
              "\n",
              "    .colab-df-convert:hover {\n",
              "      background-color: #E2EBFA;\n",
              "      box-shadow: 0px 1px 2px rgba(60, 64, 67, 0.3), 0px 1px 3px 1px rgba(60, 64, 67, 0.15);\n",
              "      fill: #174EA6;\n",
              "    }\n",
              "\n",
              "    [theme=dark] .colab-df-convert {\n",
              "      background-color: #3B4455;\n",
              "      fill: #D2E3FC;\n",
              "    }\n",
              "\n",
              "    [theme=dark] .colab-df-convert:hover {\n",
              "      background-color: #434B5C;\n",
              "      box-shadow: 0px 1px 3px 1px rgba(0, 0, 0, 0.15);\n",
              "      filter: drop-shadow(0px 1px 2px rgba(0, 0, 0, 0.3));\n",
              "      fill: #FFFFFF;\n",
              "    }\n",
              "  </style>\n",
              "\n",
              "      <script>\n",
              "        const buttonEl =\n",
              "          document.querySelector('#df-3f3af3a7-16e8-4120-89dc-2080e0c52bd0 button.colab-df-convert');\n",
              "        buttonEl.style.display =\n",
              "          google.colab.kernel.accessAllowed ? 'block' : 'none';\n",
              "\n",
              "        async function convertToInteractive(key) {\n",
              "          const element = document.querySelector('#df-3f3af3a7-16e8-4120-89dc-2080e0c52bd0');\n",
              "          const dataTable =\n",
              "            await google.colab.kernel.invokeFunction('convertToInteractive',\n",
              "                                                     [key], {});\n",
              "          if (!dataTable) return;\n",
              "\n",
              "          const docLinkHtml = 'Like what you see? Visit the ' +\n",
              "            '<a target=\"_blank\" href=https://colab.research.google.com/notebooks/data_table.ipynb>data table notebook</a>'\n",
              "            + ' to learn more about interactive tables.';\n",
              "          element.innerHTML = '';\n",
              "          dataTable['output_type'] = 'display_data';\n",
              "          await google.colab.output.renderOutput(dataTable, element);\n",
              "          const docLink = document.createElement('div');\n",
              "          docLink.innerHTML = docLinkHtml;\n",
              "          element.appendChild(docLink);\n",
              "        }\n",
              "      </script>\n",
              "    </div>\n",
              "  </div>\n",
              "  "
            ]
          },
          "metadata": {}
        }
      ]
    },
    {
      "cell_type": "markdown",
      "source": [
        "###KNN"
      ],
      "metadata": {
        "id": "R247P-22xMzo"
      }
    },
    {
      "cell_type": "code",
      "source": [
        "problem.set_model(knnModel)\n",
        "\n",
        "for i in range(0, nSets):\n",
        "  problem.train(conjuntos_train[i])\n",
        "\n",
        "  predict_values = problem.predict()\n",
        "  problem.validation(predict_values)"
      ],
      "metadata": {
        "colab": {
          "base_uri": "https://localhost:8080/",
          "height": 713
        },
        "id": "k1nCXRuGxLQK",
        "outputId": "16e6ebdd-978c-4900-81db-2c4a98a0ae93"
      },
      "execution_count": null,
      "outputs": [
        {
          "output_type": "stream",
          "name": "stdout",
          "text": [
            "\n",
            "Modelo KNeighborsClassifier(metric='euclidean', n_neighbors=9)\n"
          ]
        },
        {
          "output_type": "stream",
          "name": "stderr",
          "text": [
            "/usr/local/lib/python3.7/dist-packages/sklearn/neighbors/_classification.py:198: DataConversionWarning: A column-vector y was passed when a 1d array was expected. Please change the shape of y to (n_samples,), for example using ravel().\n",
            "  return self._fit(X, y)\n"
          ]
        },
        {
          "output_type": "stream",
          "name": "stdout",
          "text": [
            "------------------------------\n",
            "------------------------------\n",
            "Acurácia:  0.5\n",
            "Recall:  0.125\n",
            "Precision:  0.6666666666666666\n",
            "f1 Score:  0.21052631578947367\n",
            "------------------------------\n",
            "------------------------------\n",
            "--- Matriz de Confusão ---\n"
          ]
        },
        {
          "output_type": "display_data",
          "data": {
            "text/plain": [
              "     pred_neg  pred_pos\n",
              "neg        13         1\n",
              "pos        14         2"
            ],
            "text/html": [
              "\n",
              "  <div id=\"df-9e1178c9-4e89-4a83-9ce5-86a332bf532c\">\n",
              "    <div class=\"colab-df-container\">\n",
              "      <div>\n",
              "<style scoped>\n",
              "    .dataframe tbody tr th:only-of-type {\n",
              "        vertical-align: middle;\n",
              "    }\n",
              "\n",
              "    .dataframe tbody tr th {\n",
              "        vertical-align: top;\n",
              "    }\n",
              "\n",
              "    .dataframe thead th {\n",
              "        text-align: right;\n",
              "    }\n",
              "</style>\n",
              "<table border=\"1\" class=\"dataframe\">\n",
              "  <thead>\n",
              "    <tr style=\"text-align: right;\">\n",
              "      <th></th>\n",
              "      <th>pred_neg</th>\n",
              "      <th>pred_pos</th>\n",
              "    </tr>\n",
              "  </thead>\n",
              "  <tbody>\n",
              "    <tr>\n",
              "      <th>neg</th>\n",
              "      <td>13</td>\n",
              "      <td>1</td>\n",
              "    </tr>\n",
              "    <tr>\n",
              "      <th>pos</th>\n",
              "      <td>14</td>\n",
              "      <td>2</td>\n",
              "    </tr>\n",
              "  </tbody>\n",
              "</table>\n",
              "</div>\n",
              "      <button class=\"colab-df-convert\" onclick=\"convertToInteractive('df-9e1178c9-4e89-4a83-9ce5-86a332bf532c')\"\n",
              "              title=\"Convert this dataframe to an interactive table.\"\n",
              "              style=\"display:none;\">\n",
              "        \n",
              "  <svg xmlns=\"http://www.w3.org/2000/svg\" height=\"24px\"viewBox=\"0 0 24 24\"\n",
              "       width=\"24px\">\n",
              "    <path d=\"M0 0h24v24H0V0z\" fill=\"none\"/>\n",
              "    <path d=\"M18.56 5.44l.94 2.06.94-2.06 2.06-.94-2.06-.94-.94-2.06-.94 2.06-2.06.94zm-11 1L8.5 8.5l.94-2.06 2.06-.94-2.06-.94L8.5 2.5l-.94 2.06-2.06.94zm10 10l.94 2.06.94-2.06 2.06-.94-2.06-.94-.94-2.06-.94 2.06-2.06.94z\"/><path d=\"M17.41 7.96l-1.37-1.37c-.4-.4-.92-.59-1.43-.59-.52 0-1.04.2-1.43.59L10.3 9.45l-7.72 7.72c-.78.78-.78 2.05 0 2.83L4 21.41c.39.39.9.59 1.41.59.51 0 1.02-.2 1.41-.59l7.78-7.78 2.81-2.81c.8-.78.8-2.07 0-2.86zM5.41 20L4 18.59l7.72-7.72 1.47 1.35L5.41 20z\"/>\n",
              "  </svg>\n",
              "      </button>\n",
              "      \n",
              "  <style>\n",
              "    .colab-df-container {\n",
              "      display:flex;\n",
              "      flex-wrap:wrap;\n",
              "      gap: 12px;\n",
              "    }\n",
              "\n",
              "    .colab-df-convert {\n",
              "      background-color: #E8F0FE;\n",
              "      border: none;\n",
              "      border-radius: 50%;\n",
              "      cursor: pointer;\n",
              "      display: none;\n",
              "      fill: #1967D2;\n",
              "      height: 32px;\n",
              "      padding: 0 0 0 0;\n",
              "      width: 32px;\n",
              "    }\n",
              "\n",
              "    .colab-df-convert:hover {\n",
              "      background-color: #E2EBFA;\n",
              "      box-shadow: 0px 1px 2px rgba(60, 64, 67, 0.3), 0px 1px 3px 1px rgba(60, 64, 67, 0.15);\n",
              "      fill: #174EA6;\n",
              "    }\n",
              "\n",
              "    [theme=dark] .colab-df-convert {\n",
              "      background-color: #3B4455;\n",
              "      fill: #D2E3FC;\n",
              "    }\n",
              "\n",
              "    [theme=dark] .colab-df-convert:hover {\n",
              "      background-color: #434B5C;\n",
              "      box-shadow: 0px 1px 3px 1px rgba(0, 0, 0, 0.15);\n",
              "      filter: drop-shadow(0px 1px 2px rgba(0, 0, 0, 0.3));\n",
              "      fill: #FFFFFF;\n",
              "    }\n",
              "  </style>\n",
              "\n",
              "      <script>\n",
              "        const buttonEl =\n",
              "          document.querySelector('#df-9e1178c9-4e89-4a83-9ce5-86a332bf532c button.colab-df-convert');\n",
              "        buttonEl.style.display =\n",
              "          google.colab.kernel.accessAllowed ? 'block' : 'none';\n",
              "\n",
              "        async function convertToInteractive(key) {\n",
              "          const element = document.querySelector('#df-9e1178c9-4e89-4a83-9ce5-86a332bf532c');\n",
              "          const dataTable =\n",
              "            await google.colab.kernel.invokeFunction('convertToInteractive',\n",
              "                                                     [key], {});\n",
              "          if (!dataTable) return;\n",
              "\n",
              "          const docLinkHtml = 'Like what you see? Visit the ' +\n",
              "            '<a target=\"_blank\" href=https://colab.research.google.com/notebooks/data_table.ipynb>data table notebook</a>'\n",
              "            + ' to learn more about interactive tables.';\n",
              "          element.innerHTML = '';\n",
              "          dataTable['output_type'] = 'display_data';\n",
              "          await google.colab.output.renderOutput(dataTable, element);\n",
              "          const docLink = document.createElement('div');\n",
              "          docLink.innerHTML = docLinkHtml;\n",
              "          element.appendChild(docLink);\n",
              "        }\n",
              "      </script>\n",
              "    </div>\n",
              "  </div>\n",
              "  "
            ]
          },
          "metadata": {}
        },
        {
          "output_type": "stream",
          "name": "stdout",
          "text": [
            "\n",
            "Modelo KNeighborsClassifier(metric='euclidean', n_neighbors=9)\n",
            "------------------------------\n",
            "------------------------------\n",
            "Acurácia:  0.4666666666666667\n",
            "Recall:  0.0\n",
            "Precision:  0.0\n",
            "f1 Score:  0.0\n",
            "------------------------------\n",
            "------------------------------\n",
            "--- Matriz de Confusão ---\n"
          ]
        },
        {
          "output_type": "stream",
          "name": "stderr",
          "text": [
            "/usr/local/lib/python3.7/dist-packages/sklearn/neighbors/_classification.py:198: DataConversionWarning: A column-vector y was passed when a 1d array was expected. Please change the shape of y to (n_samples,), for example using ravel().\n",
            "  return self._fit(X, y)\n",
            "/usr/local/lib/python3.7/dist-packages/sklearn/metrics/_classification.py:1318: UndefinedMetricWarning: Precision is ill-defined and being set to 0.0 due to no predicted samples. Use `zero_division` parameter to control this behavior.\n",
            "  _warn_prf(average, modifier, msg_start, len(result))\n"
          ]
        },
        {
          "output_type": "display_data",
          "data": {
            "text/plain": [
              "     pred_neg  pred_pos\n",
              "neg        14         0\n",
              "pos        16         0"
            ],
            "text/html": [
              "\n",
              "  <div id=\"df-534e8bce-115d-43ba-af43-01d628ab79e3\">\n",
              "    <div class=\"colab-df-container\">\n",
              "      <div>\n",
              "<style scoped>\n",
              "    .dataframe tbody tr th:only-of-type {\n",
              "        vertical-align: middle;\n",
              "    }\n",
              "\n",
              "    .dataframe tbody tr th {\n",
              "        vertical-align: top;\n",
              "    }\n",
              "\n",
              "    .dataframe thead th {\n",
              "        text-align: right;\n",
              "    }\n",
              "</style>\n",
              "<table border=\"1\" class=\"dataframe\">\n",
              "  <thead>\n",
              "    <tr style=\"text-align: right;\">\n",
              "      <th></th>\n",
              "      <th>pred_neg</th>\n",
              "      <th>pred_pos</th>\n",
              "    </tr>\n",
              "  </thead>\n",
              "  <tbody>\n",
              "    <tr>\n",
              "      <th>neg</th>\n",
              "      <td>14</td>\n",
              "      <td>0</td>\n",
              "    </tr>\n",
              "    <tr>\n",
              "      <th>pos</th>\n",
              "      <td>16</td>\n",
              "      <td>0</td>\n",
              "    </tr>\n",
              "  </tbody>\n",
              "</table>\n",
              "</div>\n",
              "      <button class=\"colab-df-convert\" onclick=\"convertToInteractive('df-534e8bce-115d-43ba-af43-01d628ab79e3')\"\n",
              "              title=\"Convert this dataframe to an interactive table.\"\n",
              "              style=\"display:none;\">\n",
              "        \n",
              "  <svg xmlns=\"http://www.w3.org/2000/svg\" height=\"24px\"viewBox=\"0 0 24 24\"\n",
              "       width=\"24px\">\n",
              "    <path d=\"M0 0h24v24H0V0z\" fill=\"none\"/>\n",
              "    <path d=\"M18.56 5.44l.94 2.06.94-2.06 2.06-.94-2.06-.94-.94-2.06-.94 2.06-2.06.94zm-11 1L8.5 8.5l.94-2.06 2.06-.94-2.06-.94L8.5 2.5l-.94 2.06-2.06.94zm10 10l.94 2.06.94-2.06 2.06-.94-2.06-.94-.94-2.06-.94 2.06-2.06.94z\"/><path d=\"M17.41 7.96l-1.37-1.37c-.4-.4-.92-.59-1.43-.59-.52 0-1.04.2-1.43.59L10.3 9.45l-7.72 7.72c-.78.78-.78 2.05 0 2.83L4 21.41c.39.39.9.59 1.41.59.51 0 1.02-.2 1.41-.59l7.78-7.78 2.81-2.81c.8-.78.8-2.07 0-2.86zM5.41 20L4 18.59l7.72-7.72 1.47 1.35L5.41 20z\"/>\n",
              "  </svg>\n",
              "      </button>\n",
              "      \n",
              "  <style>\n",
              "    .colab-df-container {\n",
              "      display:flex;\n",
              "      flex-wrap:wrap;\n",
              "      gap: 12px;\n",
              "    }\n",
              "\n",
              "    .colab-df-convert {\n",
              "      background-color: #E8F0FE;\n",
              "      border: none;\n",
              "      border-radius: 50%;\n",
              "      cursor: pointer;\n",
              "      display: none;\n",
              "      fill: #1967D2;\n",
              "      height: 32px;\n",
              "      padding: 0 0 0 0;\n",
              "      width: 32px;\n",
              "    }\n",
              "\n",
              "    .colab-df-convert:hover {\n",
              "      background-color: #E2EBFA;\n",
              "      box-shadow: 0px 1px 2px rgba(60, 64, 67, 0.3), 0px 1px 3px 1px rgba(60, 64, 67, 0.15);\n",
              "      fill: #174EA6;\n",
              "    }\n",
              "\n",
              "    [theme=dark] .colab-df-convert {\n",
              "      background-color: #3B4455;\n",
              "      fill: #D2E3FC;\n",
              "    }\n",
              "\n",
              "    [theme=dark] .colab-df-convert:hover {\n",
              "      background-color: #434B5C;\n",
              "      box-shadow: 0px 1px 3px 1px rgba(0, 0, 0, 0.15);\n",
              "      filter: drop-shadow(0px 1px 2px rgba(0, 0, 0, 0.3));\n",
              "      fill: #FFFFFF;\n",
              "    }\n",
              "  </style>\n",
              "\n",
              "      <script>\n",
              "        const buttonEl =\n",
              "          document.querySelector('#df-534e8bce-115d-43ba-af43-01d628ab79e3 button.colab-df-convert');\n",
              "        buttonEl.style.display =\n",
              "          google.colab.kernel.accessAllowed ? 'block' : 'none';\n",
              "\n",
              "        async function convertToInteractive(key) {\n",
              "          const element = document.querySelector('#df-534e8bce-115d-43ba-af43-01d628ab79e3');\n",
              "          const dataTable =\n",
              "            await google.colab.kernel.invokeFunction('convertToInteractive',\n",
              "                                                     [key], {});\n",
              "          if (!dataTable) return;\n",
              "\n",
              "          const docLinkHtml = 'Like what you see? Visit the ' +\n",
              "            '<a target=\"_blank\" href=https://colab.research.google.com/notebooks/data_table.ipynb>data table notebook</a>'\n",
              "            + ' to learn more about interactive tables.';\n",
              "          element.innerHTML = '';\n",
              "          dataTable['output_type'] = 'display_data';\n",
              "          await google.colab.output.renderOutput(dataTable, element);\n",
              "          const docLink = document.createElement('div');\n",
              "          docLink.innerHTML = docLinkHtml;\n",
              "          element.appendChild(docLink);\n",
              "        }\n",
              "      </script>\n",
              "    </div>\n",
              "  </div>\n",
              "  "
            ]
          },
          "metadata": {}
        }
      ]
    },
    {
      "cell_type": "markdown",
      "source": [
        "###XGBoost"
      ],
      "metadata": {
        "id": "NmSldfxzx5CA"
      }
    },
    {
      "cell_type": "code",
      "source": [
        "problem.set_model(XGBModel)\n",
        "for i in range(0, nSets):\n",
        "  problem.train(conjuntos_train[i])\n",
        "\n",
        "  predict_values = problem.predict()\n",
        "  problem.validation(predict_values)"
      ],
      "metadata": {
        "colab": {
          "base_uri": "https://localhost:8080/",
          "height": 748
        },
        "id": "C7ya0P8Hx98n",
        "outputId": "7cc04bfe-33be-470b-99ee-4056d0937d22"
      },
      "execution_count": null,
      "outputs": [
        {
          "output_type": "stream",
          "name": "stdout",
          "text": [
            "\n",
            "Modelo XGBClassifier(n_estimators=2)\n"
          ]
        },
        {
          "output_type": "stream",
          "name": "stderr",
          "text": [
            "/usr/local/lib/python3.7/dist-packages/sklearn/preprocessing/_label.py:98: DataConversionWarning: A column-vector y was passed when a 1d array was expected. Please change the shape of y to (n_samples, ), for example using ravel().\n",
            "  y = column_or_1d(y, warn=True)\n",
            "/usr/local/lib/python3.7/dist-packages/sklearn/preprocessing/_label.py:133: DataConversionWarning: A column-vector y was passed when a 1d array was expected. Please change the shape of y to (n_samples, ), for example using ravel().\n",
            "  y = column_or_1d(y, warn=True)\n"
          ]
        },
        {
          "output_type": "stream",
          "name": "stdout",
          "text": [
            "------------------------------\n",
            "------------------------------\n",
            "Acurácia:  0.6333333333333333\n",
            "Recall:  0.4375\n",
            "Precision:  0.7777777777777778\n",
            "f1 Score:  0.56\n",
            "------------------------------\n",
            "------------------------------\n",
            "--- Matriz de Confusão ---\n"
          ]
        },
        {
          "output_type": "display_data",
          "data": {
            "text/plain": [
              "     pred_neg  pred_pos\n",
              "neg        12         2\n",
              "pos         9         7"
            ],
            "text/html": [
              "\n",
              "  <div id=\"df-87806f88-d546-47c5-b6d9-bcae4b5b93bd\">\n",
              "    <div class=\"colab-df-container\">\n",
              "      <div>\n",
              "<style scoped>\n",
              "    .dataframe tbody tr th:only-of-type {\n",
              "        vertical-align: middle;\n",
              "    }\n",
              "\n",
              "    .dataframe tbody tr th {\n",
              "        vertical-align: top;\n",
              "    }\n",
              "\n",
              "    .dataframe thead th {\n",
              "        text-align: right;\n",
              "    }\n",
              "</style>\n",
              "<table border=\"1\" class=\"dataframe\">\n",
              "  <thead>\n",
              "    <tr style=\"text-align: right;\">\n",
              "      <th></th>\n",
              "      <th>pred_neg</th>\n",
              "      <th>pred_pos</th>\n",
              "    </tr>\n",
              "  </thead>\n",
              "  <tbody>\n",
              "    <tr>\n",
              "      <th>neg</th>\n",
              "      <td>12</td>\n",
              "      <td>2</td>\n",
              "    </tr>\n",
              "    <tr>\n",
              "      <th>pos</th>\n",
              "      <td>9</td>\n",
              "      <td>7</td>\n",
              "    </tr>\n",
              "  </tbody>\n",
              "</table>\n",
              "</div>\n",
              "      <button class=\"colab-df-convert\" onclick=\"convertToInteractive('df-87806f88-d546-47c5-b6d9-bcae4b5b93bd')\"\n",
              "              title=\"Convert this dataframe to an interactive table.\"\n",
              "              style=\"display:none;\">\n",
              "        \n",
              "  <svg xmlns=\"http://www.w3.org/2000/svg\" height=\"24px\"viewBox=\"0 0 24 24\"\n",
              "       width=\"24px\">\n",
              "    <path d=\"M0 0h24v24H0V0z\" fill=\"none\"/>\n",
              "    <path d=\"M18.56 5.44l.94 2.06.94-2.06 2.06-.94-2.06-.94-.94-2.06-.94 2.06-2.06.94zm-11 1L8.5 8.5l.94-2.06 2.06-.94-2.06-.94L8.5 2.5l-.94 2.06-2.06.94zm10 10l.94 2.06.94-2.06 2.06-.94-2.06-.94-.94-2.06-.94 2.06-2.06.94z\"/><path d=\"M17.41 7.96l-1.37-1.37c-.4-.4-.92-.59-1.43-.59-.52 0-1.04.2-1.43.59L10.3 9.45l-7.72 7.72c-.78.78-.78 2.05 0 2.83L4 21.41c.39.39.9.59 1.41.59.51 0 1.02-.2 1.41-.59l7.78-7.78 2.81-2.81c.8-.78.8-2.07 0-2.86zM5.41 20L4 18.59l7.72-7.72 1.47 1.35L5.41 20z\"/>\n",
              "  </svg>\n",
              "      </button>\n",
              "      \n",
              "  <style>\n",
              "    .colab-df-container {\n",
              "      display:flex;\n",
              "      flex-wrap:wrap;\n",
              "      gap: 12px;\n",
              "    }\n",
              "\n",
              "    .colab-df-convert {\n",
              "      background-color: #E8F0FE;\n",
              "      border: none;\n",
              "      border-radius: 50%;\n",
              "      cursor: pointer;\n",
              "      display: none;\n",
              "      fill: #1967D2;\n",
              "      height: 32px;\n",
              "      padding: 0 0 0 0;\n",
              "      width: 32px;\n",
              "    }\n",
              "\n",
              "    .colab-df-convert:hover {\n",
              "      background-color: #E2EBFA;\n",
              "      box-shadow: 0px 1px 2px rgba(60, 64, 67, 0.3), 0px 1px 3px 1px rgba(60, 64, 67, 0.15);\n",
              "      fill: #174EA6;\n",
              "    }\n",
              "\n",
              "    [theme=dark] .colab-df-convert {\n",
              "      background-color: #3B4455;\n",
              "      fill: #D2E3FC;\n",
              "    }\n",
              "\n",
              "    [theme=dark] .colab-df-convert:hover {\n",
              "      background-color: #434B5C;\n",
              "      box-shadow: 0px 1px 3px 1px rgba(0, 0, 0, 0.15);\n",
              "      filter: drop-shadow(0px 1px 2px rgba(0, 0, 0, 0.3));\n",
              "      fill: #FFFFFF;\n",
              "    }\n",
              "  </style>\n",
              "\n",
              "      <script>\n",
              "        const buttonEl =\n",
              "          document.querySelector('#df-87806f88-d546-47c5-b6d9-bcae4b5b93bd button.colab-df-convert');\n",
              "        buttonEl.style.display =\n",
              "          google.colab.kernel.accessAllowed ? 'block' : 'none';\n",
              "\n",
              "        async function convertToInteractive(key) {\n",
              "          const element = document.querySelector('#df-87806f88-d546-47c5-b6d9-bcae4b5b93bd');\n",
              "          const dataTable =\n",
              "            await google.colab.kernel.invokeFunction('convertToInteractive',\n",
              "                                                     [key], {});\n",
              "          if (!dataTable) return;\n",
              "\n",
              "          const docLinkHtml = 'Like what you see? Visit the ' +\n",
              "            '<a target=\"_blank\" href=https://colab.research.google.com/notebooks/data_table.ipynb>data table notebook</a>'\n",
              "            + ' to learn more about interactive tables.';\n",
              "          element.innerHTML = '';\n",
              "          dataTable['output_type'] = 'display_data';\n",
              "          await google.colab.output.renderOutput(dataTable, element);\n",
              "          const docLink = document.createElement('div');\n",
              "          docLink.innerHTML = docLinkHtml;\n",
              "          element.appendChild(docLink);\n",
              "        }\n",
              "      </script>\n",
              "    </div>\n",
              "  </div>\n",
              "  "
            ]
          },
          "metadata": {}
        },
        {
          "output_type": "stream",
          "name": "stdout",
          "text": [
            "\n",
            "Modelo XGBClassifier(n_estimators=2)\n",
            "------------------------------\n",
            "------------------------------\n",
            "Acurácia:  0.7\n",
            "Recall:  0.5\n",
            "Precision:  0.8888888888888888\n",
            "f1 Score:  0.64\n",
            "------------------------------\n",
            "------------------------------\n",
            "--- Matriz de Confusão ---\n"
          ]
        },
        {
          "output_type": "stream",
          "name": "stderr",
          "text": [
            "/usr/local/lib/python3.7/dist-packages/sklearn/preprocessing/_label.py:98: DataConversionWarning: A column-vector y was passed when a 1d array was expected. Please change the shape of y to (n_samples, ), for example using ravel().\n",
            "  y = column_or_1d(y, warn=True)\n",
            "/usr/local/lib/python3.7/dist-packages/sklearn/preprocessing/_label.py:133: DataConversionWarning: A column-vector y was passed when a 1d array was expected. Please change the shape of y to (n_samples, ), for example using ravel().\n",
            "  y = column_or_1d(y, warn=True)\n"
          ]
        },
        {
          "output_type": "display_data",
          "data": {
            "text/plain": [
              "     pred_neg  pred_pos\n",
              "neg        13         1\n",
              "pos         8         8"
            ],
            "text/html": [
              "\n",
              "  <div id=\"df-1d6a21b4-f172-46f1-9747-7937a0b81da3\">\n",
              "    <div class=\"colab-df-container\">\n",
              "      <div>\n",
              "<style scoped>\n",
              "    .dataframe tbody tr th:only-of-type {\n",
              "        vertical-align: middle;\n",
              "    }\n",
              "\n",
              "    .dataframe tbody tr th {\n",
              "        vertical-align: top;\n",
              "    }\n",
              "\n",
              "    .dataframe thead th {\n",
              "        text-align: right;\n",
              "    }\n",
              "</style>\n",
              "<table border=\"1\" class=\"dataframe\">\n",
              "  <thead>\n",
              "    <tr style=\"text-align: right;\">\n",
              "      <th></th>\n",
              "      <th>pred_neg</th>\n",
              "      <th>pred_pos</th>\n",
              "    </tr>\n",
              "  </thead>\n",
              "  <tbody>\n",
              "    <tr>\n",
              "      <th>neg</th>\n",
              "      <td>13</td>\n",
              "      <td>1</td>\n",
              "    </tr>\n",
              "    <tr>\n",
              "      <th>pos</th>\n",
              "      <td>8</td>\n",
              "      <td>8</td>\n",
              "    </tr>\n",
              "  </tbody>\n",
              "</table>\n",
              "</div>\n",
              "      <button class=\"colab-df-convert\" onclick=\"convertToInteractive('df-1d6a21b4-f172-46f1-9747-7937a0b81da3')\"\n",
              "              title=\"Convert this dataframe to an interactive table.\"\n",
              "              style=\"display:none;\">\n",
              "        \n",
              "  <svg xmlns=\"http://www.w3.org/2000/svg\" height=\"24px\"viewBox=\"0 0 24 24\"\n",
              "       width=\"24px\">\n",
              "    <path d=\"M0 0h24v24H0V0z\" fill=\"none\"/>\n",
              "    <path d=\"M18.56 5.44l.94 2.06.94-2.06 2.06-.94-2.06-.94-.94-2.06-.94 2.06-2.06.94zm-11 1L8.5 8.5l.94-2.06 2.06-.94-2.06-.94L8.5 2.5l-.94 2.06-2.06.94zm10 10l.94 2.06.94-2.06 2.06-.94-2.06-.94-.94-2.06-.94 2.06-2.06.94z\"/><path d=\"M17.41 7.96l-1.37-1.37c-.4-.4-.92-.59-1.43-.59-.52 0-1.04.2-1.43.59L10.3 9.45l-7.72 7.72c-.78.78-.78 2.05 0 2.83L4 21.41c.39.39.9.59 1.41.59.51 0 1.02-.2 1.41-.59l7.78-7.78 2.81-2.81c.8-.78.8-2.07 0-2.86zM5.41 20L4 18.59l7.72-7.72 1.47 1.35L5.41 20z\"/>\n",
              "  </svg>\n",
              "      </button>\n",
              "      \n",
              "  <style>\n",
              "    .colab-df-container {\n",
              "      display:flex;\n",
              "      flex-wrap:wrap;\n",
              "      gap: 12px;\n",
              "    }\n",
              "\n",
              "    .colab-df-convert {\n",
              "      background-color: #E8F0FE;\n",
              "      border: none;\n",
              "      border-radius: 50%;\n",
              "      cursor: pointer;\n",
              "      display: none;\n",
              "      fill: #1967D2;\n",
              "      height: 32px;\n",
              "      padding: 0 0 0 0;\n",
              "      width: 32px;\n",
              "    }\n",
              "\n",
              "    .colab-df-convert:hover {\n",
              "      background-color: #E2EBFA;\n",
              "      box-shadow: 0px 1px 2px rgba(60, 64, 67, 0.3), 0px 1px 3px 1px rgba(60, 64, 67, 0.15);\n",
              "      fill: #174EA6;\n",
              "    }\n",
              "\n",
              "    [theme=dark] .colab-df-convert {\n",
              "      background-color: #3B4455;\n",
              "      fill: #D2E3FC;\n",
              "    }\n",
              "\n",
              "    [theme=dark] .colab-df-convert:hover {\n",
              "      background-color: #434B5C;\n",
              "      box-shadow: 0px 1px 3px 1px rgba(0, 0, 0, 0.15);\n",
              "      filter: drop-shadow(0px 1px 2px rgba(0, 0, 0, 0.3));\n",
              "      fill: #FFFFFF;\n",
              "    }\n",
              "  </style>\n",
              "\n",
              "      <script>\n",
              "        const buttonEl =\n",
              "          document.querySelector('#df-1d6a21b4-f172-46f1-9747-7937a0b81da3 button.colab-df-convert');\n",
              "        buttonEl.style.display =\n",
              "          google.colab.kernel.accessAllowed ? 'block' : 'none';\n",
              "\n",
              "        async function convertToInteractive(key) {\n",
              "          const element = document.querySelector('#df-1d6a21b4-f172-46f1-9747-7937a0b81da3');\n",
              "          const dataTable =\n",
              "            await google.colab.kernel.invokeFunction('convertToInteractive',\n",
              "                                                     [key], {});\n",
              "          if (!dataTable) return;\n",
              "\n",
              "          const docLinkHtml = 'Like what you see? Visit the ' +\n",
              "            '<a target=\"_blank\" href=https://colab.research.google.com/notebooks/data_table.ipynb>data table notebook</a>'\n",
              "            + ' to learn more about interactive tables.';\n",
              "          element.innerHTML = '';\n",
              "          dataTable['output_type'] = 'display_data';\n",
              "          await google.colab.output.renderOutput(dataTable, element);\n",
              "          const docLink = document.createElement('div');\n",
              "          docLink.innerHTML = docLinkHtml;\n",
              "          element.appendChild(docLink);\n",
              "        }\n",
              "      </script>\n",
              "    </div>\n",
              "  </div>\n",
              "  "
            ]
          },
          "metadata": {}
        }
      ]
    },
    {
      "cell_type": "markdown",
      "source": [
        "# testes"
      ],
      "metadata": {
        "id": "R5scf57qjiYe"
      }
    },
    {
      "cell_type": "markdown",
      "source": [
        "Teste de força bruta para pegar os melhores parametros para cada modelo"
      ],
      "metadata": {
        "id": "ajeLtW3uP7VY"
      }
    },
    {
      "cell_type": "code",
      "source": [
        "max = 0\n",
        "value = 0\n",
        "for i in range( 1, 10):\n",
        "  #knn_model = DecisionTreeClassifier(min_samples_leaf=i)\n",
        "  XGBModel = XGBClassifier(n_estimators=i)\n",
        "  problem.set_model(XGBModel)\n",
        "  problem.train()\n",
        "  print(f\"treino {i}\")\n",
        "  predict_values = problem.predict()\n",
        "  r2 = accuracy_score(list(problem.sets['saidaDesejada']['test']), predict_values)\n",
        "  if r2 > max: \n",
        "    value = i\n",
        "    max = r2\n",
        "\n",
        "print(value, max)"
      ],
      "metadata": {
        "colab": {
          "base_uri": "https://localhost:8080/"
        },
        "id": "xh_pCTAPWK5o",
        "outputId": "a88b91e9-4e1b-464b-b200-29a430935b9e"
      },
      "execution_count": null,
      "outputs": [
        {
          "output_type": "stream",
          "name": "stdout",
          "text": [
            "\n",
            "Modelo XGBClassifier(n_estimators=1)\n",
            "treino 1\n",
            "\n",
            "Modelo XGBClassifier(n_estimators=2)\n",
            "treino 2\n",
            "\n",
            "Modelo XGBClassifier(n_estimators=3)\n",
            "treino 3\n",
            "\n",
            "Modelo XGBClassifier(n_estimators=4)\n",
            "treino 4\n",
            "\n",
            "Modelo XGBClassifier(n_estimators=5)\n",
            "treino 5\n",
            "\n",
            "Modelo XGBClassifier(n_estimators=6)\n",
            "treino 6\n",
            "\n",
            "Modelo XGBClassifier(n_estimators=7)\n",
            "treino 7\n",
            "\n",
            "Modelo XGBClassifier(n_estimators=8)\n",
            "treino 8\n",
            "\n",
            "Modelo XGBClassifier(n_estimators=9)\n",
            "treino 9\n",
            "\n",
            "Modelo XGBClassifier(n_estimators=10)\n",
            "treino 10\n",
            "\n",
            "Modelo XGBClassifier(n_estimators=11)\n",
            "treino 11\n",
            "\n",
            "Modelo XGBClassifier(n_estimators=12)\n",
            "treino 12\n",
            "\n",
            "Modelo XGBClassifier(n_estimators=13)\n",
            "treino 13\n",
            "\n",
            "Modelo XGBClassifier(n_estimators=14)\n",
            "treino 14\n",
            "\n",
            "Modelo XGBClassifier(n_estimators=15)\n",
            "treino 15\n",
            "\n",
            "Modelo XGBClassifier(n_estimators=16)\n",
            "treino 16\n",
            "\n",
            "Modelo XGBClassifier(n_estimators=17)\n",
            "treino 17\n",
            "\n",
            "Modelo XGBClassifier(n_estimators=18)\n",
            "treino 18\n",
            "\n",
            "Modelo XGBClassifier(n_estimators=19)\n",
            "treino 19\n",
            "\n",
            "Modelo XGBClassifier(n_estimators=20)\n",
            "treino 20\n",
            "\n",
            "Modelo XGBClassifier(n_estimators=21)\n",
            "treino 21\n",
            "\n",
            "Modelo XGBClassifier(n_estimators=22)\n",
            "treino 22\n",
            "\n",
            "Modelo XGBClassifier(n_estimators=23)\n",
            "treino 23\n",
            "\n",
            "Modelo XGBClassifier(n_estimators=24)\n",
            "treino 24\n",
            "\n",
            "Modelo XGBClassifier(n_estimators=25)\n",
            "treino 25\n",
            "\n",
            "Modelo XGBClassifier(n_estimators=26)\n",
            "treino 26\n",
            "\n",
            "Modelo XGBClassifier(n_estimators=27)\n",
            "treino 27\n",
            "\n",
            "Modelo XGBClassifier(n_estimators=28)\n",
            "treino 28\n",
            "\n",
            "Modelo XGBClassifier(n_estimators=29)\n",
            "treino 29\n",
            "\n",
            "Modelo XGBClassifier(n_estimators=30)\n",
            "treino 30\n",
            "\n",
            "Modelo XGBClassifier(n_estimators=31)\n",
            "treino 31\n",
            "\n",
            "Modelo XGBClassifier(n_estimators=32)\n",
            "treino 32\n",
            "\n",
            "Modelo XGBClassifier(n_estimators=33)\n",
            "treino 33\n",
            "\n",
            "Modelo XGBClassifier(n_estimators=34)\n",
            "treino 34\n",
            "\n",
            "Modelo XGBClassifier(n_estimators=35)\n",
            "treino 35\n",
            "\n",
            "Modelo XGBClassifier(n_estimators=36)\n",
            "treino 36\n",
            "\n",
            "Modelo XGBClassifier(n_estimators=37)\n",
            "treino 37\n",
            "\n",
            "Modelo XGBClassifier(n_estimators=38)\n",
            "treino 38\n",
            "\n",
            "Modelo XGBClassifier(n_estimators=39)\n",
            "treino 39\n",
            "\n",
            "Modelo XGBClassifier(n_estimators=40)\n",
            "treino 40\n",
            "\n",
            "Modelo XGBClassifier(n_estimators=41)\n",
            "treino 41\n",
            "\n",
            "Modelo XGBClassifier(n_estimators=42)\n",
            "treino 42\n",
            "\n",
            "Modelo XGBClassifier(n_estimators=43)\n",
            "treino 43\n",
            "\n",
            "Modelo XGBClassifier(n_estimators=44)\n",
            "treino 44\n",
            "\n",
            "Modelo XGBClassifier(n_estimators=45)\n",
            "treino 45\n",
            "\n",
            "Modelo XGBClassifier(n_estimators=46)\n",
            "treino 46\n",
            "\n",
            "Modelo XGBClassifier(n_estimators=47)\n",
            "treino 47\n",
            "\n",
            "Modelo XGBClassifier(n_estimators=48)\n",
            "treino 48\n",
            "\n",
            "Modelo XGBClassifier(n_estimators=49)\n",
            "treino 49\n",
            "\n",
            "Modelo XGBClassifier(n_estimators=50)\n",
            "treino 50\n",
            "\n",
            "Modelo XGBClassifier(n_estimators=51)\n",
            "treino 51\n",
            "\n",
            "Modelo XGBClassifier(n_estimators=52)\n",
            "treino 52\n",
            "\n",
            "Modelo XGBClassifier(n_estimators=53)\n",
            "treino 53\n",
            "\n",
            "Modelo XGBClassifier(n_estimators=54)\n",
            "treino 54\n",
            "\n",
            "Modelo XGBClassifier(n_estimators=55)\n",
            "treino 55\n",
            "\n",
            "Modelo XGBClassifier(n_estimators=56)\n",
            "treino 56\n",
            "\n",
            "Modelo XGBClassifier(n_estimators=57)\n",
            "treino 57\n",
            "\n",
            "Modelo XGBClassifier(n_estimators=58)\n",
            "treino 58\n",
            "\n",
            "Modelo XGBClassifier(n_estimators=59)\n",
            "treino 59\n",
            "\n",
            "Modelo XGBClassifier(n_estimators=60)\n",
            "treino 60\n",
            "\n",
            "Modelo XGBClassifier(n_estimators=61)\n",
            "treino 61\n",
            "\n",
            "Modelo XGBClassifier(n_estimators=62)\n",
            "treino 62\n",
            "\n",
            "Modelo XGBClassifier(n_estimators=63)\n",
            "treino 63\n",
            "\n",
            "Modelo XGBClassifier(n_estimators=64)\n",
            "treino 64\n",
            "\n",
            "Modelo XGBClassifier(n_estimators=65)\n",
            "treino 65\n",
            "\n",
            "Modelo XGBClassifier(n_estimators=66)\n",
            "treino 66\n",
            "\n",
            "Modelo XGBClassifier(n_estimators=67)\n",
            "treino 67\n",
            "\n",
            "Modelo XGBClassifier(n_estimators=68)\n",
            "treino 68\n",
            "\n",
            "Modelo XGBClassifier(n_estimators=69)\n",
            "treino 69\n",
            "\n",
            "Modelo XGBClassifier(n_estimators=70)\n",
            "treino 70\n",
            "\n",
            "Modelo XGBClassifier(n_estimators=71)\n",
            "treino 71\n",
            "\n",
            "Modelo XGBClassifier(n_estimators=72)\n",
            "treino 72\n",
            "\n",
            "Modelo XGBClassifier(n_estimators=73)\n",
            "treino 73\n",
            "\n",
            "Modelo XGBClassifier(n_estimators=74)\n",
            "treino 74\n",
            "\n",
            "Modelo XGBClassifier(n_estimators=75)\n",
            "treino 75\n",
            "\n",
            "Modelo XGBClassifier(n_estimators=76)\n",
            "treino 76\n",
            "\n",
            "Modelo XGBClassifier(n_estimators=77)\n",
            "treino 77\n",
            "\n",
            "Modelo XGBClassifier(n_estimators=78)\n",
            "treino 78\n",
            "\n",
            "Modelo XGBClassifier(n_estimators=79)\n",
            "treino 79\n",
            "\n",
            "Modelo XGBClassifier(n_estimators=80)\n",
            "treino 80\n",
            "\n",
            "Modelo XGBClassifier(n_estimators=81)\n",
            "treino 81\n",
            "\n",
            "Modelo XGBClassifier(n_estimators=82)\n",
            "treino 82\n",
            "\n",
            "Modelo XGBClassifier(n_estimators=83)\n",
            "treino 83\n",
            "\n",
            "Modelo XGBClassifier(n_estimators=84)\n",
            "treino 84\n",
            "\n",
            "Modelo XGBClassifier(n_estimators=85)\n",
            "treino 85\n",
            "\n",
            "Modelo XGBClassifier(n_estimators=86)\n",
            "treino 86\n",
            "\n",
            "Modelo XGBClassifier(n_estimators=87)\n",
            "treino 87\n",
            "\n",
            "Modelo XGBClassifier(n_estimators=88)\n",
            "treino 88\n",
            "\n",
            "Modelo XGBClassifier(n_estimators=89)\n",
            "treino 89\n",
            "\n",
            "Modelo XGBClassifier(n_estimators=90)\n",
            "treino 90\n",
            "\n",
            "Modelo XGBClassifier(n_estimators=91)\n",
            "treino 91\n",
            "\n",
            "Modelo XGBClassifier(n_estimators=92)\n",
            "treino 92\n",
            "\n",
            "Modelo XGBClassifier(n_estimators=93)\n",
            "treino 93\n",
            "\n",
            "Modelo XGBClassifier(n_estimators=94)\n",
            "treino 94\n",
            "\n",
            "Modelo XGBClassifier(n_estimators=95)\n",
            "treino 95\n",
            "\n",
            "Modelo XGBClassifier(n_estimators=96)\n",
            "treino 96\n",
            "\n",
            "Modelo XGBClassifier(n_estimators=97)\n",
            "treino 97\n",
            "\n",
            "Modelo XGBClassifier(n_estimators=98)\n",
            "treino 98\n",
            "\n",
            "Modelo XGBClassifier(n_estimators=99)\n",
            "treino 99\n",
            "2 0.8333333333333334\n"
          ]
        }
      ]
    },
    {
      "cell_type": "code",
      "source": [
        "knnModel = KNeighborsClassifier(n_neighbors=10, metric='euclidean')\n",
        "\n",
        "dadosEntrada_train = problem.sets['features']['train']\n",
        "dadosEntrada_test = problem.sets['features']['test']\n",
        "\n",
        "saidaDesejada_train = problem.sets['saidaDesejada']['train']\n",
        "saidaDesejada_test = problem.sets['saidaDesejada']['test']\n",
        "\n",
        "# Ajustando o modelo K-NN com os dados de treino\n",
        "knnModel.fit(dadosEntrada_train, saidaDesejada_train)\n",
        "\n",
        "# Calculando a saida para o arquivo de treinamento (classificando os dados de treino)\n",
        "saidaPrevista_test = knnModel.predict(dadosEntrada_test)\n",
        "\n",
        "# Verificando o erro em relacao ao arquivo de treinamento\n",
        "accuracy_train = accuracy_score(saidaDesejada_test, saidaPrevista_test)\n",
        "recall_train = recall_score(saidaDesejada_test, saidaPrevista_test)\n",
        "precision_train = precision_score(saidaDesejada_test, saidaPrevista_test)\n",
        "f1_train = f1_score(saidaDesejada_test, saidaPrevista_test)\n",
        "print('------------------------------')\n",
        "print('------------------------------')\n",
        "print('Acurácia: ', accuracy_train)\n",
        "print('Recall: ', recall_train)\n",
        "print('Precision: ', precision_train)\n",
        "print('f1 Score: ', f1_train)\n",
        "print('------------------------------')\n",
        "print('------------------------------')\n",
        "print('--- Matriz de Confusão ---')\n",
        "pd.DataFrame(confusion_matrix(saidaDesejada_test, saidaPrevista_test),\n",
        "             index=['neg', 'pos'], columns=['pred_neg', 'pred_pos'])"
      ],
      "metadata": {
        "colab": {
          "base_uri": "https://localhost:8080/",
          "height": 268
        },
        "id": "2_CQVR93gKDn",
        "outputId": "58f49675-05ba-4700-e22d-e7a6fa656762"
      },
      "execution_count": null,
      "outputs": [
        {
          "output_type": "stream",
          "name": "stdout",
          "text": [
            "------------------------------\n",
            "------------------------------\n",
            "Acurácia:  0.96\n",
            "Recall:  0.9487179487179487\n",
            "Precision:  0.9487179487179487\n",
            "f1 Score:  0.9487179487179487\n",
            "------------------------------\n",
            "------------------------------\n",
            "--- Matriz de Confusão ---\n"
          ]
        },
        {
          "output_type": "execute_result",
          "data": {
            "text/plain": [
              "     pred_neg  pred_pos\n",
              "neg        59         2\n",
              "pos         2        37"
            ],
            "text/html": [
              "\n",
              "  <div id=\"df-3ad17698-5e6e-4482-8537-2c7d1852b395\">\n",
              "    <div class=\"colab-df-container\">\n",
              "      <div>\n",
              "<style scoped>\n",
              "    .dataframe tbody tr th:only-of-type {\n",
              "        vertical-align: middle;\n",
              "    }\n",
              "\n",
              "    .dataframe tbody tr th {\n",
              "        vertical-align: top;\n",
              "    }\n",
              "\n",
              "    .dataframe thead th {\n",
              "        text-align: right;\n",
              "    }\n",
              "</style>\n",
              "<table border=\"1\" class=\"dataframe\">\n",
              "  <thead>\n",
              "    <tr style=\"text-align: right;\">\n",
              "      <th></th>\n",
              "      <th>pred_neg</th>\n",
              "      <th>pred_pos</th>\n",
              "    </tr>\n",
              "  </thead>\n",
              "  <tbody>\n",
              "    <tr>\n",
              "      <th>neg</th>\n",
              "      <td>59</td>\n",
              "      <td>2</td>\n",
              "    </tr>\n",
              "    <tr>\n",
              "      <th>pos</th>\n",
              "      <td>2</td>\n",
              "      <td>37</td>\n",
              "    </tr>\n",
              "  </tbody>\n",
              "</table>\n",
              "</div>\n",
              "      <button class=\"colab-df-convert\" onclick=\"convertToInteractive('df-3ad17698-5e6e-4482-8537-2c7d1852b395')\"\n",
              "              title=\"Convert this dataframe to an interactive table.\"\n",
              "              style=\"display:none;\">\n",
              "        \n",
              "  <svg xmlns=\"http://www.w3.org/2000/svg\" height=\"24px\"viewBox=\"0 0 24 24\"\n",
              "       width=\"24px\">\n",
              "    <path d=\"M0 0h24v24H0V0z\" fill=\"none\"/>\n",
              "    <path d=\"M18.56 5.44l.94 2.06.94-2.06 2.06-.94-2.06-.94-.94-2.06-.94 2.06-2.06.94zm-11 1L8.5 8.5l.94-2.06 2.06-.94-2.06-.94L8.5 2.5l-.94 2.06-2.06.94zm10 10l.94 2.06.94-2.06 2.06-.94-2.06-.94-.94-2.06-.94 2.06-2.06.94z\"/><path d=\"M17.41 7.96l-1.37-1.37c-.4-.4-.92-.59-1.43-.59-.52 0-1.04.2-1.43.59L10.3 9.45l-7.72 7.72c-.78.78-.78 2.05 0 2.83L4 21.41c.39.39.9.59 1.41.59.51 0 1.02-.2 1.41-.59l7.78-7.78 2.81-2.81c.8-.78.8-2.07 0-2.86zM5.41 20L4 18.59l7.72-7.72 1.47 1.35L5.41 20z\"/>\n",
              "  </svg>\n",
              "      </button>\n",
              "      \n",
              "  <style>\n",
              "    .colab-df-container {\n",
              "      display:flex;\n",
              "      flex-wrap:wrap;\n",
              "      gap: 12px;\n",
              "    }\n",
              "\n",
              "    .colab-df-convert {\n",
              "      background-color: #E8F0FE;\n",
              "      border: none;\n",
              "      border-radius: 50%;\n",
              "      cursor: pointer;\n",
              "      display: none;\n",
              "      fill: #1967D2;\n",
              "      height: 32px;\n",
              "      padding: 0 0 0 0;\n",
              "      width: 32px;\n",
              "    }\n",
              "\n",
              "    .colab-df-convert:hover {\n",
              "      background-color: #E2EBFA;\n",
              "      box-shadow: 0px 1px 2px rgba(60, 64, 67, 0.3), 0px 1px 3px 1px rgba(60, 64, 67, 0.15);\n",
              "      fill: #174EA6;\n",
              "    }\n",
              "\n",
              "    [theme=dark] .colab-df-convert {\n",
              "      background-color: #3B4455;\n",
              "      fill: #D2E3FC;\n",
              "    }\n",
              "\n",
              "    [theme=dark] .colab-df-convert:hover {\n",
              "      background-color: #434B5C;\n",
              "      box-shadow: 0px 1px 3px 1px rgba(0, 0, 0, 0.15);\n",
              "      filter: drop-shadow(0px 1px 2px rgba(0, 0, 0, 0.3));\n",
              "      fill: #FFFFFF;\n",
              "    }\n",
              "  </style>\n",
              "\n",
              "      <script>\n",
              "        const buttonEl =\n",
              "          document.querySelector('#df-3ad17698-5e6e-4482-8537-2c7d1852b395 button.colab-df-convert');\n",
              "        buttonEl.style.display =\n",
              "          google.colab.kernel.accessAllowed ? 'block' : 'none';\n",
              "\n",
              "        async function convertToInteractive(key) {\n",
              "          const element = document.querySelector('#df-3ad17698-5e6e-4482-8537-2c7d1852b395');\n",
              "          const dataTable =\n",
              "            await google.colab.kernel.invokeFunction('convertToInteractive',\n",
              "                                                     [key], {});\n",
              "          if (!dataTable) return;\n",
              "\n",
              "          const docLinkHtml = 'Like what you see? Visit the ' +\n",
              "            '<a target=\"_blank\" href=https://colab.research.google.com/notebooks/data_table.ipynb>data table notebook</a>'\n",
              "            + ' to learn more about interactive tables.';\n",
              "          element.innerHTML = '';\n",
              "          dataTable['output_type'] = 'display_data';\n",
              "          await google.colab.output.renderOutput(dataTable, element);\n",
              "          const docLink = document.createElement('div');\n",
              "          docLink.innerHTML = docLinkHtml;\n",
              "          element.appendChild(docLink);\n",
              "        }\n",
              "      </script>\n",
              "    </div>\n",
              "  </div>\n",
              "  "
            ]
          },
          "metadata": {},
          "execution_count": 94
        }
      ]
    },
    {
      "cell_type": "markdown",
      "source": [
        "# Códigos definidos para testes e validação do conjunto de dados"
      ],
      "metadata": {
        "id": "fBPvwBG6Hvoi"
      }
    },
    {
      "cell_type": "markdown",
      "source": [
        "**with date column**\n",
        "* dtr_model (50_000 instances) = 0.\n",
        "8040641365595711\n",
        "* xgboost_model (50_000 instances) = 0.8645073924254559 \n",
        "* randomf_model (50_000 instances) = 0.9078149564693649\n",
        "\n",
        "**fault date column**\n",
        "* dtr_model (50_000 instances) = 0.\n",
        "8109\n",
        "* xgboost_model (50_000 instances) = 0.8790987 \n",
        "* randomf_model (50_000 instances) = 0.8931143548837158\n"
      ],
      "metadata": {
        "id": "BlxMCvqBLM5F"
      }
    },
    {
      "cell_type": "code",
      "source": [
        "i = 45\n",
        "car = problem.sets['features']['test'].iloc[i]\n",
        "\n",
        "print(car)\n",
        "realPrice = problem.sets['saidaDesejada']['test'].iloc[i]\n",
        "predict_values = problem.predict([list(car)])\n",
        "print(predict_values, realPrice)"
      ],
      "metadata": {
        "colab": {
          "base_uri": "https://localhost:8080/"
        },
        "id": "kOasdItvGORY",
        "outputId": "94ef88f6-9058-4e80-e759-be773e02239b"
      },
      "execution_count": null,
      "outputs": [
        {
          "output_type": "stream",
          "name": "stdout",
          "text": [
            "region            19\n",
            "year              97\n",
            "manufacturer      33\n",
            "model           2636\n",
            "condition          6\n",
            "cylinders          8\n",
            "fuel               0\n",
            "odometer        3057\n",
            "title_status       0\n",
            "transmission       0\n",
            "drive              0\n",
            "type              10\n",
            "paint_color        9\n",
            "state              1\n",
            "lat             4197\n",
            "long            1283\n",
            "Name: 41252, dtype: int64\n",
            "[67447.775] 61929\n"
          ]
        },
        {
          "output_type": "stream",
          "name": "stderr",
          "text": [
            "/usr/local/lib/python3.7/dist-packages/sklearn/base.py:451: UserWarning: X does not have valid feature names, but RandomForestRegressor was fitted with feature names\n",
            "  \"X does not have valid feature names, but\"\n"
          ]
        }
      ]
    },
    {
      "cell_type": "markdown",
      "source": [
        "Regulando modelos"
      ],
      "metadata": {
        "id": "l4D0bXqLsz6F"
      }
    },
    {
      "cell_type": "code",
      "source": [
        "max = 0\n",
        "value = 0\n",
        "for i in range(1, 50, 3):\n",
        "  knn_model = DecisionTreeRegressor(min_samples_leaf=i)\n",
        "  problem.set_model(knn_model)\n",
        "  problem.train()\n",
        "  print(f\"treino {i}\")\n",
        "  predict_values = problem.predict()\n",
        "  r2 = r2_score(list(problem.sets['saidaDesejada']['test']), predict_values)\n",
        "  if r2 > max: \n",
        "    value = i\n",
        "    max = r2\n",
        "\n",
        "print(value, max)"
      ],
      "metadata": {
        "colab": {
          "base_uri": "https://localhost:8080/"
        },
        "id": "8ts3bjLIszOq",
        "outputId": "05001918-bda1-4c21-cfc3-4fbf34f0cdc0"
      },
      "execution_count": null,
      "outputs": [
        {
          "output_type": "stream",
          "name": "stdout",
          "text": [
            "treino 1\n",
            "treino 4\n",
            "treino 7\n",
            "treino 10\n",
            "treino 13\n",
            "treino 16\n",
            "treino 19\n",
            "treino 22\n",
            "treino 25\n",
            "treino 28\n",
            "treino 31\n",
            "treino 34\n",
            "treino 37\n",
            "treino 40\n",
            "treino 43\n",
            "treino 46\n",
            "treino 49\n",
            "10 0.8546098285331233\n"
          ]
        }
      ]
    },
    {
      "cell_type": "code",
      "source": [
        "\n",
        "path = \"/content/drive/MyDrive/Dataset/vehicles_simple_dataset.csv\"\n",
        "\n",
        "dataset = pd.read_csv(path, nrows=5)\n",
        "dataset.info()\n"
      ],
      "metadata": {
        "colab": {
          "base_uri": "https://localhost:8080/"
        },
        "id": "XY8_AP011-t_",
        "outputId": "a6f1facb-571a-4a1a-b1ca-05f6d2f08106"
      },
      "execution_count": null,
      "outputs": [
        {
          "output_type": "stream",
          "name": "stdout",
          "text": [
            "<class 'pandas.core.frame.DataFrame'>\n",
            "RangeIndex: 5 entries, 0 to 4\n",
            "Data columns (total 27 columns):\n",
            " #   Column        Non-Null Count  Dtype  \n",
            "---  ------        --------------  -----  \n",
            " 0   Unnamed: 0    5 non-null      int64  \n",
            " 1   id            5 non-null      int64  \n",
            " 2   url           5 non-null      object \n",
            " 3   region        5 non-null      object \n",
            " 4   region_url    5 non-null      object \n",
            " 5   price         5 non-null      int64  \n",
            " 6   year          5 non-null      float64\n",
            " 7   manufacturer  5 non-null      object \n",
            " 8   model         5 non-null      object \n",
            " 9   condition     2 non-null      object \n",
            " 10  cylinders     5 non-null      object \n",
            " 11  fuel          5 non-null      object \n",
            " 12  odometer      5 non-null      float64\n",
            " 13  title_status  5 non-null      object \n",
            " 14  transmission  5 non-null      object \n",
            " 15  VIN           0 non-null      float64\n",
            " 16  drive         5 non-null      object \n",
            " 17  size          2 non-null      object \n",
            " 18  type          5 non-null      object \n",
            " 19  paint_color   5 non-null      object \n",
            " 20  image_url     5 non-null      object \n",
            " 21  description   5 non-null      object \n",
            " 22  county        0 non-null      float64\n",
            " 23  state         5 non-null      object \n",
            " 24  lat           5 non-null      float64\n",
            " 25  long          5 non-null      float64\n",
            " 26  posting_date  5 non-null      object \n",
            "dtypes: float64(6), int64(3), object(18)\n",
            "memory usage: 1.2+ KB\n"
          ]
        }
      ]
    },
    {
      "cell_type": "code",
      "source": [
        "#encodding_strings(dataset)\n",
        "dataset['odometer'].head(1000)\n",
        "\n"
      ],
      "metadata": {
        "colab": {
          "base_uri": "https://localhost:8080/"
        },
        "id": "xoYscMav2bf_",
        "outputId": "0625f835-8ff8-40ba-a657-1f90f46d4592"
      },
      "execution_count": null,
      "outputs": [
        {
          "output_type": "execute_result",
          "data": {
            "text/plain": [
              "0     73269.0\n",
              "1     28709.0\n",
              "2    175102.0\n",
              "3    139500.0\n",
              "4    142761.0\n",
              "Name: odometer, dtype: float64"
            ]
          },
          "metadata": {},
          "execution_count": 36
        }
      ]
    },
    {
      "cell_type": "code",
      "source": [
        "[x for x in range(1, 5)]"
      ],
      "metadata": {
        "colab": {
          "base_uri": "https://localhost:8080/"
        },
        "id": "dSj2DD_iA1Lq",
        "outputId": "a1910aa6-86a0-443a-fab8-c977750cd522"
      },
      "execution_count": null,
      "outputs": [
        {
          "output_type": "execute_result",
          "data": {
            "text/plain": [
              "[1, 2, 3, 4]"
            ]
          },
          "metadata": {},
          "execution_count": 12
        }
      ]
    },
    {
      "cell_type": "markdown",
      "source": [
        "*italicized text*# Classificação"
      ],
      "metadata": {
        "id": "zPL6f8EhqEot"
      }
    }
  ]
}